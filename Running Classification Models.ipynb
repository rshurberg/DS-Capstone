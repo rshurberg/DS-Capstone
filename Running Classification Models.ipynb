{
 "cells": [
  {
   "cell_type": "markdown",
   "id": "82352c5b",
   "metadata": {},
   "source": [
    "# Running Classification Models\n",
    "by Rachel Shurberg\n",
    "\n",
    "1. [Import and Check the Data](#Import)\n",
    "2. [Run the Classifiers](#Class)\n",
    "3. [K-Nearest Neighbors](#KNN)\n",
    "4. [Random Forest Decision Trees](#Random)\n",
    "5. [Decision Tree Classifier](#Decision)\n",
    "6. [Gaussian Naive Bayes](#Naive)"
   ]
  },
  {
   "cell_type": "markdown",
   "id": "6c84f564",
   "metadata": {},
   "source": [
    "# 1. Import and Check the Data <a class=\"anchor\" id=\"Import\"></a>\n",
    "The data is imported and checked to make sure there are no missing values. The data is split into x,y data sets and converted to arrays."
   ]
  },
  {
   "cell_type": "markdown",
   "id": "38f656fe",
   "metadata": {},
   "source": [
    "### Import the 4 bucket data sets"
   ]
  },
  {
   "cell_type": "code",
   "execution_count": 14,
   "id": "75e30887",
   "metadata": {},
   "outputs": [],
   "source": [
    "import pandas as pd\n",
    "import numpy as np\n",
    "from sklearn.model_selection import train_test_split\n",
    "from sklearn import tree  # Using sklearn Decision Tree classifier\n",
    "from sklearn import ensemble  # Using sklearn Random Forest classifier\n",
    "from sklearn.naive_bayes import GaussianNB\n",
    "from sklearn.metrics import accuracy_score\n",
    "from sklearn import tree\n",
    "\n",
    "# Read in the 4 bucket data sets\n",
    "#b1 = pd.read_csv('b1.csv')\n",
    "#b2 = pd.read_csv('b2.csv')\n",
    "#b3 = pd.read_csv('b3.csv')\n",
    "#b4 = pd.read_csv('b4.csv')\n",
    "\n",
    "b1 = pd.read_csv('b1Mean.csv')\n",
    "b2 = pd.read_csv('b2Mean.csv')\n",
    "b3 = pd.read_csv('b3Mean.csv')\n",
    "b4 = pd.read_csv('b4Mean.csv')\n",
    "\n",
    "np.random.seed(10)"
   ]
  },
  {
   "cell_type": "markdown",
   "id": "acb067cf",
   "metadata": {},
   "source": [
    "Count the number of missing data values in each bucket:"
   ]
  },
  {
   "cell_type": "code",
   "execution_count": 2,
   "id": "cca14116",
   "metadata": {},
   "outputs": [
    {
     "name": "stdout",
     "output_type": "stream",
     "text": [
      "0\n",
      "0\n",
      "0\n",
      "0\n"
     ]
    }
   ],
   "source": [
    "nan_count1 = b1.isna().sum().sum()\n",
    "nan_count2 = b2.isna().sum().sum()\n",
    "nan_count3 = b3.isna().sum().sum()\n",
    "nan_count4 = b4.isna().sum().sum()\n",
    "print(nan_count1)\n",
    "print(nan_count2)\n",
    "print(nan_count3)\n",
    "print(nan_count4)"
   ]
  },
  {
   "cell_type": "markdown",
   "id": "f478e90d",
   "metadata": {},
   "source": [
    "Get the shape of each data set:"
   ]
  },
  {
   "cell_type": "code",
   "execution_count": 2,
   "id": "8290061b",
   "metadata": {},
   "outputs": [
    {
     "name": "stdout",
     "output_type": "stream",
     "text": [
      "(591, 15)\n",
      "(823, 15)\n",
      "(1040, 15)\n",
      "(794, 15)\n"
     ]
    }
   ],
   "source": [
    "print(b1.shape)\n",
    "print(b2.shape)\n",
    "print(b3.shape)\n",
    "print(b4.shape)"
   ]
  },
  {
   "cell_type": "markdown",
   "id": "b1287bd6",
   "metadata": {},
   "source": [
    "Drop any players with empty values:"
   ]
  },
  {
   "cell_type": "code",
   "execution_count": 134,
   "id": "9515a3ce",
   "metadata": {},
   "outputs": [],
   "source": [
    "xb1Drop=xb1.dropna(axis=0)\n",
    "xb2Drop=xb2.dropna(axis=0)\n",
    "xb3Drop=xb3.dropna(axis=0)\n",
    "xb4Drop=xb4.dropna(axis=0)"
   ]
  },
  {
   "cell_type": "markdown",
   "id": "0dbbe442",
   "metadata": {},
   "source": [
    "Check that all missing values are dropped:"
   ]
  },
  {
   "cell_type": "code",
   "execution_count": 135,
   "id": "392f0e9b",
   "metadata": {},
   "outputs": [
    {
     "name": "stdout",
     "output_type": "stream",
     "text": [
      "0\n",
      "0\n",
      "0\n",
      "0\n"
     ]
    }
   ],
   "source": [
    "nan_count1 = xb1Drop.isna().sum().sum()\n",
    "nan_count2 = xb2Drop.isna().sum().sum()\n",
    "nan_count3 = xb3Drop.isna().sum().sum()\n",
    "nan_count4 = xb4Drop.isna().sum().sum()\n",
    "print(nan_count1)\n",
    "print(nan_count1)\n",
    "print(nan_count1)\n",
    "print(nan_count1)"
   ]
  },
  {
   "cell_type": "markdown",
   "id": "a00ca754",
   "metadata": {},
   "source": [
    "Get the dependent variable for each bucket:"
   ]
  },
  {
   "cell_type": "code",
   "execution_count": 15,
   "id": "654d3679",
   "metadata": {},
   "outputs": [],
   "source": [
    "#yb1=xb1Drop['CollegePlayerType']\n",
    "#yb2=xb2Drop['CollegePlayerType']\n",
    "#yb3=xb3Drop['CollegePlayerType']\n",
    "#yb4=xb4Drop['CollegePlayerType']\n",
    "yb1=b1['CollegePlayerType']\n",
    "yb2=b2['CollegePlayerType']\n",
    "yb3=b3['CollegePlayerType']\n",
    "yb4=b4['CollegePlayerType']"
   ]
  },
  {
   "cell_type": "markdown",
   "id": "8d824e86",
   "metadata": {},
   "source": [
    "Drop the dependent variable for each bucket:"
   ]
  },
  {
   "cell_type": "code",
   "execution_count": 16,
   "id": "98ba731b",
   "metadata": {},
   "outputs": [],
   "source": [
    "#xb1=xb1Drop.drop(['CollegePlayerType'], axis=1)\n",
    "#xb2=xb2Drop.drop(['CollegePlayerType'], axis=1)\n",
    "#xb3=xb3Drop.drop(['CollegePlayerType'], axis=1)\n",
    "#xb4=xb4Drop.drop(['CollegePlayerType'], axis=1)\n",
    "\n",
    "xb1=b1.drop(['CollegePlayerType','Unnamed: 0'], axis=1)\n",
    "xb2=b2.drop(['CollegePlayerType','Unnamed: 0'], axis=1)\n",
    "xb3=b3.drop(['CollegePlayerType','Unnamed: 0'], axis=1)\n",
    "xb4=b4.drop(['CollegePlayerType','Unnamed: 0'], axis=1)"
   ]
  },
  {
   "cell_type": "markdown",
   "id": "059033f9",
   "metadata": {},
   "source": [
    "Convert the data sets to arrays:"
   ]
  },
  {
   "cell_type": "code",
   "execution_count": 17,
   "id": "aaae3d04",
   "metadata": {},
   "outputs": [],
   "source": [
    "xb1Arr=xb1.to_numpy()\n",
    "yb1Arr=yb1.to_numpy()\n",
    "xb2Arr=xb2.to_numpy()\n",
    "yb2Arr=yb2.to_numpy()\n",
    "xb3Arr=xb3.to_numpy()\n",
    "yb3Arr=yb3.to_numpy()\n",
    "xb4Arr=xb4.to_numpy()\n",
    "yb4Arr=yb4.to_numpy()"
   ]
  },
  {
   "cell_type": "markdown",
   "id": "aae179a6",
   "metadata": {},
   "source": [
    "Check the shape of the remaining arrays:"
   ]
  },
  {
   "cell_type": "code",
   "execution_count": 18,
   "id": "cf34a70a",
   "metadata": {},
   "outputs": [
    {
     "name": "stdout",
     "output_type": "stream",
     "text": [
      "(591, 13)\n",
      "(823, 13)\n",
      "(1040, 13)\n",
      "(794, 13)\n"
     ]
    }
   ],
   "source": [
    "print(xb1Arr.shape)\n",
    "print(xb2Arr.shape)\n",
    "print(xb3Arr.shape)\n",
    "print(xb4Arr.shape)"
   ]
  },
  {
   "cell_type": "code",
   "execution_count": 19,
   "id": "73dee4d7",
   "metadata": {},
   "outputs": [
    {
     "data": {
      "text/plain": [
       "Index(['Plane', 'Connection', 'Rotation', 'BatSpeed', 'RotationalAcceleration',\n",
       "       'OnPlaneEfficiency', 'Power', 'TimeToContact', 'PeakHandSpeed', 'H1',\n",
       "       'HH', 'armVelo', 'exitVelo'],\n",
       "      dtype='object')"
      ]
     },
     "execution_count": 19,
     "metadata": {},
     "output_type": "execute_result"
    }
   ],
   "source": [
    "xb1.columns"
   ]
  },
  {
   "cell_type": "markdown",
   "id": "b5f21395",
   "metadata": {},
   "source": [
    "Count the number of each type of player in each bucket:"
   ]
  },
  {
   "cell_type": "code",
   "execution_count": 20,
   "id": "e6164a90",
   "metadata": {},
   "outputs": [
    {
     "data": {
      "text/plain": [
       "Role Player      248\n",
       "Starter          232\n",
       "Impact Player    111\n",
       "Name: CollegePlayerType, dtype: int64"
      ]
     },
     "execution_count": 20,
     "metadata": {},
     "output_type": "execute_result"
    }
   ],
   "source": [
    "yb1.value_counts()"
   ]
  },
  {
   "cell_type": "code",
   "execution_count": 21,
   "id": "c1e48a1e",
   "metadata": {},
   "outputs": [
    {
     "data": {
      "text/plain": [
       "Starter          344\n",
       "Role Player      323\n",
       "Impact Player    156\n",
       "Name: CollegePlayerType, dtype: int64"
      ]
     },
     "execution_count": 21,
     "metadata": {},
     "output_type": "execute_result"
    }
   ],
   "source": [
    "yb2.value_counts()"
   ]
  },
  {
   "cell_type": "code",
   "execution_count": 22,
   "id": "0faf5eb3",
   "metadata": {},
   "outputs": [
    {
     "data": {
      "text/plain": [
       "Starter          446\n",
       "Role Player      387\n",
       "Impact Player    207\n",
       "Name: CollegePlayerType, dtype: int64"
      ]
     },
     "execution_count": 22,
     "metadata": {},
     "output_type": "execute_result"
    }
   ],
   "source": [
    "yb3.value_counts()"
   ]
  },
  {
   "cell_type": "code",
   "execution_count": 23,
   "id": "081fddd0",
   "metadata": {},
   "outputs": [
    {
     "data": {
      "text/plain": [
       "Starter          327\n",
       "Role Player      297\n",
       "Impact Player    170\n",
       "Name: CollegePlayerType, dtype: int64"
      ]
     },
     "execution_count": 23,
     "metadata": {},
     "output_type": "execute_result"
    }
   ],
   "source": [
    "yb4.value_counts()"
   ]
  },
  {
   "cell_type": "markdown",
   "id": "3b9c19ac",
   "metadata": {},
   "source": [
    "### Split each bucket into training, validation, and testing data:"
   ]
  },
  {
   "cell_type": "code",
   "execution_count": 24,
   "id": "80dc6c04",
   "metadata": {},
   "outputs": [],
   "source": [
    "# Using train_test_split to generate training, validation, and test data\n",
    "XTrainb1,XTestb1,yTrainb1,yTestb1=train_test_split(xb1Arr,yb1Arr,train_size=.6,test_size=.4)\n",
    "XTrainb2,XTestb2,yTrainb2,yTestb2=train_test_split(xb2Arr,yb2Arr,train_size=.6,test_size=.4)\n",
    "XTrainb3,XTestb3,yTrainb3,yTestb3=train_test_split(xb3Arr,yb3Arr,train_size=.6,test_size=.4)\n",
    "XTrainb4,XTestb4,yTrainb4,yTestb4=train_test_split(xb4Arr,yb4Arr,train_size=.6,test_size=.4)\n",
    "\n",
    "XValidb1,XTestb1,yValidb1,yTestb1=train_test_split(XTestb1,yTestb1,train_size=.5,test_size=.5)\n",
    "XValidb2,XTestb2,yValidb2,yTestb2=train_test_split(XTestb2,yTestb2,train_size=.5,test_size=.5)\n",
    "XValidb3,XTestb3,yValidb3,yTestb3=train_test_split(XTestb3,yTestb3,train_size=.5,test_size=.5)\n",
    "XValidb4,XTestb4,yValidb4,yTestb4=train_test_split(XTestb4,yTestb4,train_size=.5,test_size=.5)"
   ]
  },
  {
   "cell_type": "markdown",
   "id": "0ae6c8f0",
   "metadata": {},
   "source": [
    "### Function that calculates the accuracy of each type of player:"
   ]
  },
  {
   "cell_type": "code",
   "execution_count": 25,
   "id": "818ac643",
   "metadata": {},
   "outputs": [],
   "source": [
    "def roleAccuracy(yActual,yPred):\n",
    "    accurDict={\"Role Player\":[0,0], \"Impact Player\":[0,0], \"Starter\":[0,0]}\n",
    "    for i in range(len(yActual)):\n",
    "        accurDict[yActual[i]][0]+=1\n",
    "        if yActual[i]==yPred[i]:\n",
    "            accurDict[yActual[i]][1]+=1\n",
    "    for player in accurDict.keys():\n",
    "        accur=accurDict[player][1]/accurDict[player][0]\n",
    "        print(player+ \": \"+str(accur))"
   ]
  },
  {
   "cell_type": "markdown",
   "id": "f73a0eb9",
   "metadata": {},
   "source": [
    "# 2. Run the Classifiers <a class=\"anchor\" id=\"Class\"></a>"
   ]
  },
  {
   "cell_type": "markdown",
   "id": "5f16cbab",
   "metadata": {},
   "source": [
    "## 3. Knn Classifier <a class=\"anchor\" id=\"KNN\"></a>"
   ]
  },
  {
   "cell_type": "code",
   "execution_count": 26,
   "id": "a7740af7",
   "metadata": {},
   "outputs": [],
   "source": [
    "from sklearn.neighbors import KNeighborsClassifier\n",
    "def sklearn_knn_predict(trainX, trainy, testX, distance_metric, k):\n",
    "    model=KNeighborsClassifier(n_neighbors=k,algorithm='brute',metric=distance_metric)\n",
    "    model.fit(trainX, trainy)\n",
    "    return model"
   ]
  },
  {
   "cell_type": "code",
   "execution_count": 27,
   "id": "ff70ea27",
   "metadata": {},
   "outputs": [],
   "source": [
    "def knn_grid_search(trainX, trainy, validationX, validationy, distance_metric_list, n_neighbors_list):\n",
    "    \"\"\"For each metric in distance_metric_list, and each value k in n_neighbors_list,\n",
    "    trains knn classifiers with those parameters\n",
    "    on the training data and computes the accuracy on the validation data.\n",
    "    Returns a dictionary mapping each value of the hyperparameter pair (metric, k)\n",
    "    to the accuracy with those hyperparameters on the validation data\n",
    "    \"\"\"\n",
    "    accurDict={}\n",
    "    for metric in distance_metric_list:\n",
    "        for n in n_neighbors_list:\n",
    "            tup=(metric, n)\n",
    "            classifier=KNeighborsClassifier(n_neighbors=n,algorithm='brute',metric=metric)\n",
    "            classifier.fit(trainX, trainy)\n",
    "            accuracy=classifier.score(validationX,validationy)\n",
    "            accurDict[tup]=accuracy\n",
    "    return accurDict"
   ]
  },
  {
   "cell_type": "markdown",
   "id": "4045a207",
   "metadata": {},
   "source": [
    "### a.) Bucket 1:"
   ]
  },
  {
   "cell_type": "markdown",
   "id": "1bc6d994",
   "metadata": {},
   "source": [
    "### Grid search with different distance metrics and k values:"
   ]
  },
  {
   "cell_type": "code",
   "execution_count": 31,
   "id": "df029575",
   "metadata": {},
   "outputs": [
    {
     "data": {
      "text/plain": [
       "{('euclidean', 1): 0.3389830508474576,\n",
       " ('euclidean', 3): 0.3728813559322034,\n",
       " ('euclidean', 5): 0.3644067796610169,\n",
       " ('euclidean', 7): 0.3728813559322034,\n",
       " ('euclidean', 9): 0.3898305084745763,\n",
       " ('euclidean', 11): 0.3728813559322034,\n",
       " ('euclidean', 13): 0.3728813559322034,\n",
       " ('euclidean', 15): 0.3644067796610169,\n",
       " ('euclidean', 17): 0.3389830508474576,\n",
       " ('euclidean', 19): 0.3813559322033898,\n",
       " ('euclidean', 21): 0.3898305084745763,\n",
       " ('euclidean', 23): 0.3644067796610169,\n",
       " ('manhattan', 1): 0.3474576271186441,\n",
       " ('manhattan', 3): 0.3898305084745763,\n",
       " ('manhattan', 5): 0.3728813559322034,\n",
       " ('manhattan', 7): 0.3644067796610169,\n",
       " ('manhattan', 9): 0.3644067796610169,\n",
       " ('manhattan', 11): 0.423728813559322,\n",
       " ('manhattan', 13): 0.3389830508474576,\n",
       " ('manhattan', 15): 0.3559322033898305,\n",
       " ('manhattan', 17): 0.3983050847457627,\n",
       " ('manhattan', 19): 0.4067796610169492,\n",
       " ('manhattan', 21): 0.3983050847457627,\n",
       " ('manhattan', 23): 0.3728813559322034}"
      ]
     },
     "execution_count": 31,
     "metadata": {},
     "output_type": "execute_result"
    }
   ],
   "source": [
    "# cross validation,\n",
    "grid=knn_grid_search(XTrainb1,yTrainb1,XValidb1,yValidb1,['euclidean','manhattan'],[1,3,5,7,9,11,13,15,17,19,21,23])\n",
    "grid"
   ]
  },
  {
   "cell_type": "code",
   "execution_count": 32,
   "id": "4edc2626",
   "metadata": {},
   "outputs": [
    {
     "name": "stdout",
     "output_type": "stream",
     "text": [
      "0.423728813559322\n"
     ]
    }
   ],
   "source": [
    "# manhattan, k=11 has highest accuracy\n",
    "print(max(grid.values()))"
   ]
  },
  {
   "cell_type": "markdown",
   "id": "b4faf700",
   "metadata": {},
   "source": [
    "### b.) Bucket 2:"
   ]
  },
  {
   "cell_type": "code",
   "execution_count": 33,
   "id": "2388dae8",
   "metadata": {},
   "outputs": [
    {
     "data": {
      "text/plain": [
       "{('euclidean', 1): 0.3878787878787879,\n",
       " ('euclidean', 3): 0.3333333333333333,\n",
       " ('euclidean', 5): 0.3939393939393939,\n",
       " ('euclidean', 7): 0.42424242424242425,\n",
       " ('euclidean', 9): 0.45454545454545453,\n",
       " ('euclidean', 11): 0.38181818181818183,\n",
       " ('euclidean', 13): 0.3696969696969697,\n",
       " ('euclidean', 15): 0.3878787878787879,\n",
       " ('euclidean', 17): 0.4121212121212121,\n",
       " ('euclidean', 19): 0.4,\n",
       " ('euclidean', 21): 0.40606060606060607,\n",
       " ('euclidean', 23): 0.4121212121212121,\n",
       " ('manhattan', 1): 0.3878787878787879,\n",
       " ('manhattan', 3): 0.34545454545454546,\n",
       " ('manhattan', 5): 0.37575757575757573,\n",
       " ('manhattan', 7): 0.3696969696969697,\n",
       " ('manhattan', 9): 0.4,\n",
       " ('manhattan', 11): 0.3939393939393939,\n",
       " ('manhattan', 13): 0.3696969696969697,\n",
       " ('manhattan', 15): 0.36363636363636365,\n",
       " ('manhattan', 17): 0.3878787878787879,\n",
       " ('manhattan', 19): 0.38181818181818183,\n",
       " ('manhattan', 21): 0.3939393939393939,\n",
       " ('manhattan', 23): 0.40606060606060607}"
      ]
     },
     "execution_count": 33,
     "metadata": {},
     "output_type": "execute_result"
    }
   ],
   "source": [
    "grid=knn_grid_search(XTrainb2,yTrainb2,XValidb2,yValidb2,['euclidean','manhattan'],[1,3,5,7,9,11,13,15,17,19,21,23])\n",
    "grid"
   ]
  },
  {
   "cell_type": "code",
   "execution_count": 34,
   "id": "2a95e16b",
   "metadata": {},
   "outputs": [
    {
     "name": "stdout",
     "output_type": "stream",
     "text": [
      "0.45454545454545453\n"
     ]
    }
   ],
   "source": [
    "# Euclidean, k=9 is best\n",
    "print(max(grid.values()))"
   ]
  },
  {
   "cell_type": "markdown",
   "id": "3d95f186",
   "metadata": {},
   "source": [
    "### c.) Bucket 3:"
   ]
  },
  {
   "cell_type": "code",
   "execution_count": 35,
   "id": "f2f7d333",
   "metadata": {},
   "outputs": [
    {
     "data": {
      "text/plain": [
       "{('euclidean', 1): 0.40865384615384615,\n",
       " ('euclidean', 3): 0.40384615384615385,\n",
       " ('euclidean', 5): 0.4519230769230769,\n",
       " ('euclidean', 7): 0.47596153846153844,\n",
       " ('euclidean', 9): 0.4182692307692308,\n",
       " ('euclidean', 11): 0.4807692307692308,\n",
       " ('euclidean', 13): 0.5096153846153846,\n",
       " ('euclidean', 15): 0.4807692307692308,\n",
       " ('euclidean', 17): 0.4855769230769231,\n",
       " ('euclidean', 19): 0.4855769230769231,\n",
       " ('euclidean', 21): 0.49038461538461536,\n",
       " ('euclidean', 23): 0.49038461538461536,\n",
       " ('manhattan', 1): 0.38461538461538464,\n",
       " ('manhattan', 3): 0.3894230769230769,\n",
       " ('manhattan', 5): 0.4375,\n",
       " ('manhattan', 7): 0.4519230769230769,\n",
       " ('manhattan', 9): 0.47115384615384615,\n",
       " ('manhattan', 11): 0.4567307692307692,\n",
       " ('manhattan', 13): 0.46153846153846156,\n",
       " ('manhattan', 15): 0.46153846153846156,\n",
       " ('manhattan', 17): 0.4423076923076923,\n",
       " ('manhattan', 19): 0.46153846153846156,\n",
       " ('manhattan', 21): 0.46634615384615385,\n",
       " ('manhattan', 23): 0.4951923076923077}"
      ]
     },
     "execution_count": 35,
     "metadata": {},
     "output_type": "execute_result"
    }
   ],
   "source": [
    "grid=knn_grid_search(XTrainb3,yTrainb3,XValidb3,yValidb3,['euclidean','manhattan'],[1,3,5,7,9,11,13,15,17,19,21,23])\n",
    "grid"
   ]
  },
  {
   "cell_type": "code",
   "execution_count": 36,
   "id": "2bb008e8",
   "metadata": {},
   "outputs": [
    {
     "name": "stdout",
     "output_type": "stream",
     "text": [
      "0.5096153846153846\n"
     ]
    }
   ],
   "source": [
    "# Euclidean, k=13 is best\n",
    "print(max(grid.values()))"
   ]
  },
  {
   "cell_type": "markdown",
   "id": "41356875",
   "metadata": {},
   "source": [
    "### d.) Bucket 4:"
   ]
  },
  {
   "cell_type": "code",
   "execution_count": 37,
   "id": "8d246208",
   "metadata": {},
   "outputs": [
    {
     "data": {
      "text/plain": [
       "{('euclidean', 1): 0.3710691823899371,\n",
       " ('euclidean', 3): 0.3584905660377358,\n",
       " ('euclidean', 5): 0.3836477987421384,\n",
       " ('euclidean', 7): 0.389937106918239,\n",
       " ('euclidean', 9): 0.3836477987421384,\n",
       " ('euclidean', 11): 0.4025157232704403,\n",
       " ('euclidean', 13): 0.4025157232704403,\n",
       " ('euclidean', 15): 0.4528301886792453,\n",
       " ('euclidean', 17): 0.4528301886792453,\n",
       " ('euclidean', 19): 0.4591194968553459,\n",
       " ('euclidean', 21): 0.4339622641509434,\n",
       " ('euclidean', 23): 0.4528301886792453,\n",
       " ('manhattan', 1): 0.3522012578616352,\n",
       " ('manhattan', 3): 0.2830188679245283,\n",
       " ('manhattan', 5): 0.37735849056603776,\n",
       " ('manhattan', 7): 0.3710691823899371,\n",
       " ('manhattan', 9): 0.3584905660377358,\n",
       " ('manhattan', 11): 0.3836477987421384,\n",
       " ('manhattan', 13): 0.4276729559748428,\n",
       " ('manhattan', 15): 0.41509433962264153,\n",
       " ('manhattan', 17): 0.44654088050314467,\n",
       " ('manhattan', 19): 0.44025157232704404,\n",
       " ('manhattan', 21): 0.41509433962264153,\n",
       " ('manhattan', 23): 0.4276729559748428}"
      ]
     },
     "execution_count": 37,
     "metadata": {},
     "output_type": "execute_result"
    }
   ],
   "source": [
    "grid=knn_grid_search(XTrainb4,yTrainb4,XValidb4,yValidb4,['euclidean','manhattan'],[1,3,5,7,9,11,13,15,17,19,21,23])\n",
    "grid"
   ]
  },
  {
   "cell_type": "code",
   "execution_count": 38,
   "id": "01a2a83e",
   "metadata": {},
   "outputs": [
    {
     "name": "stdout",
     "output_type": "stream",
     "text": [
      "0.4591194968553459\n"
     ]
    }
   ],
   "source": [
    "# Euclidean, k=19\n",
    "print(max(grid.values()))"
   ]
  },
  {
   "cell_type": "markdown",
   "id": "f1504bf0",
   "metadata": {},
   "source": [
    "### Fit the models to the best metric: Euclidean, k=13"
   ]
  },
  {
   "cell_type": "code",
   "execution_count": 39,
   "id": "171ad41a",
   "metadata": {},
   "outputs": [
    {
     "name": "stdout",
     "output_type": "stream",
     "text": [
      "Training Accuracy: 0.5225988700564972\n",
      "Validation Accuracy: 0.3728813559322034\n",
      "Testing Accuracy: 0.46218487394957986\n"
     ]
    }
   ],
   "source": [
    "b1Model=sklearn_knn_predict(XTrainb1,yTrainb1,XTestb1,'euclidean',13)\n",
    "print('Training Accuracy: '+str(b1Model.score(XTrainb1,yTrainb1)))\n",
    "print('Validation Accuracy: '+str(b1Model.score(XValidb1,yValidb1)))\n",
    "print('Testing Accuracy: '+str(b1Model.score(XTestb1,yTestb1)))\n",
    "\n",
    "testPred = b1Model.predict(XTestb1)"
   ]
  },
  {
   "cell_type": "code",
   "execution_count": 40,
   "id": "f07de0dc",
   "metadata": {},
   "outputs": [
    {
     "name": "stdout",
     "output_type": "stream",
     "text": [
      "Role Player: 0.5714285714285714\n",
      "Impact Player: 0.13043478260869565\n",
      "Starter: 0.5106382978723404\n"
     ]
    }
   ],
   "source": [
    "roleAccuracy(yTestb1, testPred)"
   ]
  },
  {
   "cell_type": "code",
   "execution_count": 41,
   "id": "de580664",
   "metadata": {},
   "outputs": [
    {
     "name": "stdout",
     "output_type": "stream",
     "text": [
      "Training Accuracy: 0.5436105476673428\n",
      "Validation Accuracy: 0.3696969696969697\n",
      "Testing Accuracy: 0.42424242424242425\n",
      "Role Player: 0.5072463768115942\n",
      "Impact Player: 0.038461538461538464\n",
      "Starter: 0.4857142857142857\n",
      "None\n"
     ]
    }
   ],
   "source": [
    "b2Model=sklearn_knn_predict(XTrainb2,yTrainb2,XTestb2,'euclidean',13)\n",
    "testPred = b2Model.predict(XTestb2)\n",
    "print('Training Accuracy: '+str(b2Model.score(XTrainb2,yTrainb2)))\n",
    "print('Validation Accuracy: '+str(b2Model.score(XValidb2,yValidb2)))\n",
    "print('Testing Accuracy: '+str(b2Model.score(XTestb2,yTestb2)))\n",
    "print(roleAccuracy(yTestb2, testPred))"
   ]
  },
  {
   "cell_type": "code",
   "execution_count": 42,
   "id": "74692d06",
   "metadata": {},
   "outputs": [
    {
     "name": "stdout",
     "output_type": "stream",
     "text": [
      "Training Accuracy: 0.5528846153846154\n",
      "Validation Accuracy: 0.5096153846153846\n",
      "Testing Accuracy: 0.4182692307692308\n",
      "Role Player: 0.42857142857142855\n",
      "Impact Player: 0.07317073170731707\n",
      "Starter: 0.5783132530120482\n",
      "None\n"
     ]
    }
   ],
   "source": [
    "b3Model=sklearn_knn_predict(XTrainb3,yTrainb3,XTestb3,'euclidean',13)\n",
    "testPred = b3Model.predict(XTestb3)\n",
    "print('Training Accuracy: '+str(b3Model.score(XTrainb3,yTrainb3)))\n",
    "print('Validation Accuracy: '+str(b3Model.score(XValidb3,yValidb3)))\n",
    "print('Testing Accuracy: '+str(b3Model.score(XTestb3,yTestb3)))\n",
    "print(roleAccuracy(yTestb3, testPred))"
   ]
  },
  {
   "cell_type": "code",
   "execution_count": 43,
   "id": "2d8f3688",
   "metadata": {},
   "outputs": [
    {
     "name": "stdout",
     "output_type": "stream",
     "text": [
      "Training Accuracy: 0.5483193277310925\n",
      "Validation Accuracy: 0.4025157232704403\n",
      "Testing Accuracy: 0.4025157232704403\n",
      "Role Player: 0.4166666666666667\n",
      "Impact Player: 0.1388888888888889\n",
      "Starter: 0.5396825396825397\n",
      "None\n"
     ]
    }
   ],
   "source": [
    "b4Model=sklearn_knn_predict(XTrainb4,yTrainb4,XTestb4,'euclidean',13)\n",
    "testPred = b4Model.predict(XTestb4)\n",
    "print('Training Accuracy: '+str(b4Model.score(XTrainb4,yTrainb4)))\n",
    "print('Validation Accuracy: '+str(b4Model.score(XValidb4,yValidb4)))\n",
    "print('Testing Accuracy: '+str(b4Model.score(XTestb4,yTestb4)))\n",
    "print(roleAccuracy(yTestb4, testPred))"
   ]
  },
  {
   "cell_type": "markdown",
   "id": "04328a40",
   "metadata": {},
   "source": [
    "## 4. Random Forest Decision Trees <a class=\"anchor\" id=\"Random\"></a>\n",
    "Found in exercise 1\n",
    "1600 is the best n_estimates parameter."
   ]
  },
  {
   "cell_type": "code",
   "execution_count": 44,
   "id": "57553122",
   "metadata": {},
   "outputs": [],
   "source": [
    "np.random.seed(10)"
   ]
  },
  {
   "cell_type": "markdown",
   "id": "3eb1419c",
   "metadata": {},
   "source": [
    "### a.) Bucket 1"
   ]
  },
  {
   "cell_type": "code",
   "execution_count": 45,
   "id": "c1b7204e",
   "metadata": {},
   "outputs": [
    {
     "name": "stdout",
     "output_type": "stream",
     "text": [
      "Validation accuracy 200: 0.4152542372881356\n",
      "Validation accuracy 400: 0.4491525423728814\n",
      "Validation accuracy 600: 0.4661016949152542\n",
      "Validation accuracy 800: 0.4576271186440678\n",
      "Validation accuracy 1000: 0.4661016949152542\n",
      "Validation accuracy 1200: 0.4661016949152542\n",
      "Validation accuracy 1400: 0.4491525423728814\n",
      "Validation accuracy 1600: 0.4661016949152542\n",
      "Validation accuracy 1800: 0.4491525423728814\n",
      "Validation accuracy 2000: 0.4491525423728814\n",
      "Validation accuracy 2200: 0.4661016949152542\n"
     ]
    }
   ],
   "source": [
    "nEstimates=[200,400,600,800,1000,1200,1400,1600,1800,2000,2200]\n",
    "\n",
    "for n in nEstimates:\n",
    "    clf = ensemble.RandomForestClassifier(n_estimators=n) \n",
    "    clf.fit(XTrainb1, yTrainb1)\n",
    "    print(\"Validation accuracy \"+str(n)+\": \"+str(clf.score(XValidb1,yValidb1)))\n",
    "# 600, 1000,1200,1600, 2200"
   ]
  },
  {
   "cell_type": "code",
   "execution_count": 98,
   "id": "fcabe3e2",
   "metadata": {},
   "outputs": [
    {
     "name": "stdout",
     "output_type": "stream",
     "text": [
      "Training accuracy: 1.0\n",
      "Validation accuracy: 0.4576271186440678\n",
      "Testing accuracy: 0.44537815126050423\n",
      "Role Player: 0.5102040816326531\n",
      "Impact Player: 0.13043478260869565\n",
      "Starter: 0.5319148936170213\n",
      "None\n"
     ]
    }
   ],
   "source": [
    "# show train, validation, test accuracies\n",
    "# see where the tree is splitting first: those are most important features\n",
    "# Present results in table, balance with visualizations\n",
    "# Include more major takeaways\n",
    "# random forest account for how correlated variables actually are, less biased\n",
    "# decision tree could be using the same variables each time\n",
    "# Kmeans clustering, tried to do it by predicting bucket\n",
    "clf = ensemble.RandomForestClassifier(n_estimators=600) # Create decision tree classifier\n",
    "clf.fit(XTrainb1, yTrainb1)\n",
    "testPred=clf.predict(XTestb1)\n",
    "print(\"Training accuracy: \"+str(clf.score(XTrainb1,yTrainb1)))\n",
    "print(\"Validation accuracy: \"+str(clf.score(XValidb1,yValidb1)))\n",
    "print(\"Testing accuracy: \"+str(clf.score(XTestb1,yTestb1)))\n",
    "print(roleAccuracy(yTestb1, testPred))"
   ]
  },
  {
   "cell_type": "code",
   "execution_count": 100,
   "id": "b7564348",
   "metadata": {},
   "outputs": [
    {
     "name": "stdout",
     "output_type": "stream",
     "text": [
      "Training accuracy: 1.0\n",
      "Validation accuracy: 0.4406779661016949\n",
      "Testing accuracy: 0.453781512605042\n",
      "Role Player: 0.4897959183673469\n",
      "Impact Player: 0.21739130434782608\n",
      "Starter: 0.5319148936170213\n",
      "None\n"
     ]
    }
   ],
   "source": [
    "clf = ensemble.RandomForestClassifier() # Create decision tree classifier\n",
    "clf.fit(XTrainb1, yTrainb1)\n",
    "testPred=clf.predict(XTestb1)\n",
    "print(\"Training accuracy: \"+str(clf.score(XTrainb1,yTrainb1)))\n",
    "print(\"Validation accuracy: \"+str(clf.score(XValidb1,yValidb1)))\n",
    "print(\"Testing accuracy: \"+str(clf.score(XTestb1,yTestb1)))\n",
    "print(roleAccuracy(yTestb1, testPred))"
   ]
  },
  {
   "cell_type": "markdown",
   "id": "32519d35",
   "metadata": {},
   "source": [
    "### b.) Bucket 2:"
   ]
  },
  {
   "cell_type": "code",
   "execution_count": 46,
   "id": "19452a1a",
   "metadata": {},
   "outputs": [
    {
     "name": "stdout",
     "output_type": "stream",
     "text": [
      "Validation accuracy 200: 0.4666666666666667\n",
      "Validation accuracy 400: 0.4666666666666667\n",
      "Validation accuracy 600: 0.4666666666666667\n",
      "Validation accuracy 800: 0.4303030303030303\n",
      "Validation accuracy 1000: 0.45454545454545453\n",
      "Validation accuracy 1200: 0.44242424242424244\n",
      "Validation accuracy 1400: 0.45454545454545453\n",
      "Validation accuracy 1600: 0.4484848484848485\n",
      "Validation accuracy 1800: 0.4666666666666667\n",
      "Validation accuracy 2000: 0.45454545454545453\n",
      "Validation accuracy 2200: 0.46060606060606063\n"
     ]
    }
   ],
   "source": [
    "nEstimates=[200,400,600,800,1000,1200,1400,1600,1800,2000,2200]\n",
    "\n",
    "for n in nEstimates:\n",
    "    clf = ensemble.RandomForestClassifier(n_estimators=n) \n",
    "    clf.fit(XTrainb2, yTrainb2)\n",
    "    print(\"Validation accuracy \"+str(n)+\": \"+str(clf.score(XValidb2,yValidb2)))\n",
    "\n",
    "# 200, 400, 600, 1800"
   ]
  },
  {
   "cell_type": "code",
   "execution_count": 101,
   "id": "af516668",
   "metadata": {},
   "outputs": [
    {
     "name": "stdout",
     "output_type": "stream",
     "text": [
      "Training accuracy: 1.0\n",
      "Validation accuracy: 0.4727272727272727\n",
      "Testing accuracy: 0.4666666666666667\n",
      "Role Player: 0.6086956521739131\n",
      "Impact Player: 0.11538461538461539\n",
      "Starter: 0.45714285714285713\n",
      "None\n"
     ]
    }
   ],
   "source": [
    "clf = ensemble.RandomForestClassifier(n_estimators=600) \n",
    "clf.fit(XTrainb2, yTrainb2)\n",
    "testPred=clf.predict(XTestb2)\n",
    "\n",
    "print(\"Training accuracy: \"+str(clf.score(XTrainb2,yTrainb2)))\n",
    "print(\"Validation accuracy: \"+str(clf.score(XValidb2,yValidb2)))\n",
    "print(\"Testing accuracy: \"+str(clf.score(XTestb2,yTestb2)))\n",
    "print(roleAccuracy(yTestb2, testPred))"
   ]
  },
  {
   "cell_type": "code",
   "execution_count": 53,
   "id": "d0aebaab",
   "metadata": {},
   "outputs": [
    {
     "name": "stdout",
     "output_type": "stream",
     "text": [
      "Training accuracy: 1.0\n",
      "Validation accuracy: 0.46060606060606063\n",
      "Testing accuracy: 0.5515151515151515\n"
     ]
    }
   ],
   "source": [
    "clf = ensemble.RandomForestClassifier() \n",
    "clf.fit(XTrainb2, yTrainb2)\n",
    "\n",
    "print(\"Training accuracy: \"+str(clf.score(XTrainb2,yTrainb2)))\n",
    "print(\"Validation accuracy: \"+str(clf.score(XValidb2,yValidb2)))\n",
    "print(\"Testing accuracy: \"+str(clf.score(XTestb2,yTestb2)))"
   ]
  },
  {
   "cell_type": "markdown",
   "id": "149f1b20",
   "metadata": {},
   "source": [
    "### c.) Bucket 3:"
   ]
  },
  {
   "cell_type": "code",
   "execution_count": 47,
   "id": "f0318ec7",
   "metadata": {},
   "outputs": [
    {
     "name": "stdout",
     "output_type": "stream",
     "text": [
      "Validation accuracy 200: 0.4326923076923077\n",
      "Validation accuracy 400: 0.4519230769230769\n",
      "Validation accuracy 600: 0.4375\n",
      "Validation accuracy 800: 0.46153846153846156\n",
      "Validation accuracy 1000: 0.4567307692307692\n",
      "Validation accuracy 1200: 0.4326923076923077\n",
      "Validation accuracy 1400: 0.44711538461538464\n",
      "Validation accuracy 1600: 0.4519230769230769\n",
      "Validation accuracy 1800: 0.4423076923076923\n",
      "Validation accuracy 2000: 0.4423076923076923\n",
      "Validation accuracy 2200: 0.44711538461538464\n"
     ]
    }
   ],
   "source": [
    "nEstimates=[200,400,600,800,1000,1200,1400,1600,1800,2000,2200]\n",
    "\n",
    "for n in nEstimates:\n",
    "    clf = ensemble.RandomForestClassifier(n_estimators=n) \n",
    "    clf.fit(XTrainb3, yTrainb3)\n",
    "    print(\"Validation accuracy \"+str(n)+\": \"+str(clf.score(XValidb3,yValidb3)))\n",
    "    \n",
    "# 800, "
   ]
  },
  {
   "cell_type": "code",
   "execution_count": 107,
   "id": "155dd680",
   "metadata": {},
   "outputs": [
    {
     "name": "stdout",
     "output_type": "stream",
     "text": [
      "Training accuracy: 1.0\n",
      "Validation accuracy: 0.46153846153846156\n",
      "Testing accuracy: 0.44711538461538464\n",
      "Role Player: 0.5\n",
      "Impact Player: 0.17073170731707318\n",
      "Starter: 0.5301204819277109\n",
      "None\n"
     ]
    }
   ],
   "source": [
    "clf = ensemble.RandomForestClassifier(n_estimators=600) \n",
    "clf.fit(XTrainb3, yTrainb3)\n",
    "testPred=clf.predict(XTestb3)\n",
    "\n",
    "print(\"Training accuracy: \"+str(clf.score(XTrainb3,yTrainb3)))\n",
    "print(\"Validation accuracy: \"+str(clf.score(XValidb3,yValidb3)))\n",
    "print(\"Testing accuracy: \"+str(clf.score(XTestb3,yTestb3)))\n",
    "print(roleAccuracy(yTestb3, testPred))"
   ]
  },
  {
   "cell_type": "code",
   "execution_count": 103,
   "id": "77e8e17f",
   "metadata": {},
   "outputs": [
    {
     "name": "stdout",
     "output_type": "stream",
     "text": [
      "Training accuracy: 1.0\n",
      "Validation accuracy: 0.44711538461538464\n",
      "Testing accuracy: 0.4230769230769231\n"
     ]
    }
   ],
   "source": [
    "clf = ensemble.RandomForestClassifier() \n",
    "clf.fit(XTrainb3, yTrainb3)\n",
    "\n",
    "print(\"Training accuracy: \"+str(clf.score(XTrainb3,yTrainb3)))\n",
    "print(\"Validation accuracy: \"+str(clf.score(XValidb3,yValidb3)))\n",
    "print(\"Testing accuracy: \"+str(clf.score(XTestb3,yTestb3)))"
   ]
  },
  {
   "cell_type": "markdown",
   "id": "a5480071",
   "metadata": {},
   "source": [
    "### d.) Bucket 4:"
   ]
  },
  {
   "cell_type": "code",
   "execution_count": 48,
   "id": "be6766e2",
   "metadata": {},
   "outputs": [
    {
     "name": "stdout",
     "output_type": "stream",
     "text": [
      "Validation accuracy 200: 0.37735849056603776\n",
      "Validation accuracy 400: 0.33962264150943394\n",
      "Validation accuracy 600: 0.3584905660377358\n",
      "Validation accuracy 800: 0.3522012578616352\n",
      "Validation accuracy 1000: 0.36477987421383645\n",
      "Validation accuracy 1200: 0.3584905660377358\n",
      "Validation accuracy 1400: 0.34591194968553457\n",
      "Validation accuracy 1600: 0.36477987421383645\n",
      "Validation accuracy 1800: 0.3270440251572327\n",
      "Validation accuracy 2000: 0.3522012578616352\n",
      "Validation accuracy 2200: 0.3710691823899371\n"
     ]
    }
   ],
   "source": [
    "nEstimates=[200,400,600,800,1000,1200,1400,1600,1800,2000,2200]\n",
    "\n",
    "for n in nEstimates:\n",
    "    clf = ensemble.RandomForestClassifier(n_estimators=n) \n",
    "    clf.fit(XTrainb4, yTrainb4)\n",
    "    print(\"Validation accuracy \"+str(n)+\": \"+str(clf.score(XValidb4,yValidb4)))\n",
    "    \n",
    "# 200"
   ]
  },
  {
   "cell_type": "code",
   "execution_count": 113,
   "id": "74c08040",
   "metadata": {},
   "outputs": [
    {
     "name": "stdout",
     "output_type": "stream",
     "text": [
      "Training accuracy: 1.0\n",
      "Validation accuracy: 0.36477987421383645\n",
      "Testing accuracy: 0.44654088050314467\n",
      "Role Player: 0.43333333333333335\n",
      "Impact Player: 0.2222222222222222\n",
      "Starter: 0.5873015873015873\n",
      "None\n"
     ]
    }
   ],
   "source": [
    "clf = ensemble.RandomForestClassifier(n_estimators=600) \n",
    "clf.fit(XTrainb4, yTrainb4)\n",
    "testPred=clf.predict(XTestb4)\n",
    "\n",
    "print(\"Training accuracy: \"+str(clf.score(XTrainb4,yTrainb4)))\n",
    "print(\"Validation accuracy: \"+str(clf.score(XValidb4,yValidb4)))\n",
    "print(\"Testing accuracy: \"+str(clf.score(XTestb4,yTestb4)))\n",
    "print(roleAccuracy(yTestb4, testPred))"
   ]
  },
  {
   "cell_type": "code",
   "execution_count": 110,
   "id": "333bb625",
   "metadata": {},
   "outputs": [
    {
     "name": "stdout",
     "output_type": "stream",
     "text": [
      "Training accuracy: 1.0\n",
      "Validation accuracy: 0.3522012578616352\n",
      "Testing accuracy: 0.44025157232704404\n"
     ]
    }
   ],
   "source": [
    "clf = ensemble.RandomForestClassifier() \n",
    "clf.fit(XTrainb4, yTrainb4)\n",
    "\n",
    "print(\"Training accuracy: \"+str(clf.score(XTrainb4,yTrainb4)))\n",
    "print(\"Validation accuracy: \"+str(clf.score(XValidb4,yValidb4)))\n",
    "print(\"Testing accuracy: \"+str(clf.score(XTestb4,yTestb4)))"
   ]
  },
  {
   "cell_type": "markdown",
   "id": "a10c6b96",
   "metadata": {},
   "source": [
    "## 5. Decision Tree Classifier <a class=\"anchor\" id=\"Decision\"></a>"
   ]
  },
  {
   "cell_type": "markdown",
   "id": "6b74cea9",
   "metadata": {},
   "source": [
    "### a.) Bucket 1"
   ]
  },
  {
   "cell_type": "code",
   "execution_count": 68,
   "id": "48a574b7",
   "metadata": {},
   "outputs": [],
   "source": [
    "clf=tree.DecisionTreeClassifier()\n",
    "clf=clf.fit(XTrainb1,yTrainb1)\n",
    "y_test=clf.predict(XTestb1)\n",
    "y_valid=clf.predict(XValidb1)\n",
    "y_train=clf.predict(XTrainb1)"
   ]
  },
  {
   "cell_type": "code",
   "execution_count": 69,
   "id": "00592869",
   "metadata": {},
   "outputs": [
    {
     "name": "stdout",
     "output_type": "stream",
     "text": [
      "Train Accuracy: 1.0\n",
      "Validation Accuracy: 0.4152542372881356\n",
      "Test Accuracy: 0.3445378151260504\n"
     ]
    }
   ],
   "source": [
    "accTest=accuracy_score(yTestb1, y_test)\n",
    "accValid=accuracy_score(yValidb1, y_valid)\n",
    "accTrain=accuracy_score(yTrainb1, y_train)\n",
    "\n",
    "print(\"Train Accuracy: \"+str(accTrain))\n",
    "print(\"Validation Accuracy: \"+str(accValid))\n",
    "print(\"Test Accuracy: \"+str(accTest))"
   ]
  },
  {
   "cell_type": "markdown",
   "id": "9bea21d3",
   "metadata": {},
   "source": [
    "### b.) Bucket 2"
   ]
  },
  {
   "cell_type": "code",
   "execution_count": 70,
   "id": "419b981f",
   "metadata": {},
   "outputs": [],
   "source": [
    "clf=tree.DecisionTreeClassifier()\n",
    "clf=clf.fit(XTrainb2,yTrainb2)\n",
    "y_test=clf.predict(XTestb2)\n",
    "y_valid=clf.predict(XValidb2)\n",
    "y_train=clf.predict(XTrainb2)"
   ]
  },
  {
   "cell_type": "code",
   "execution_count": 71,
   "id": "76a20b14",
   "metadata": {},
   "outputs": [
    {
     "name": "stdout",
     "output_type": "stream",
     "text": [
      "Train Accuracy: 1.0\n",
      "Validation Accuracy: 0.3515151515151515\n",
      "Test Accuracy: 0.3575757575757576\n"
     ]
    }
   ],
   "source": [
    "accTest=accuracy_score(yTestb2, y_test)\n",
    "accValid=accuracy_score(yValidb2, y_valid)\n",
    "accTrain=accuracy_score(yTrainb2, y_train)\n",
    "\n",
    "print(\"Train Accuracy: \"+str(accTrain))\n",
    "print(\"Validation Accuracy: \"+str(accValid))\n",
    "print(\"Test Accuracy: \"+str(accTest))"
   ]
  },
  {
   "cell_type": "markdown",
   "id": "f245c310",
   "metadata": {},
   "source": [
    "### c.) Bucket 3"
   ]
  },
  {
   "cell_type": "code",
   "execution_count": 72,
   "id": "0a68bc35",
   "metadata": {},
   "outputs": [],
   "source": [
    "clf=tree.DecisionTreeClassifier()\n",
    "clf=clf.fit(XTrainb3,yTrainb3)\n",
    "y_test=clf.predict(XTestb3)\n",
    "y_valid=clf.predict(XValidb3)\n",
    "y_train=clf.predict(XTrainb3)"
   ]
  },
  {
   "cell_type": "code",
   "execution_count": 73,
   "id": "627e3f54",
   "metadata": {},
   "outputs": [
    {
     "name": "stdout",
     "output_type": "stream",
     "text": [
      "Train Accuracy: 1.0\n",
      "Validation Accuracy: 0.40384615384615385\n",
      "Test Accuracy: 0.3894230769230769\n"
     ]
    }
   ],
   "source": [
    "accTest=accuracy_score(yTestb3, y_test)\n",
    "accValid=accuracy_score(yValidb3, y_valid)\n",
    "accTrain=accuracy_score(yTrainb3, y_train)\n",
    "\n",
    "print(\"Train Accuracy: \"+str(accTrain))\n",
    "print(\"Validation Accuracy: \"+str(accValid))\n",
    "print(\"Test Accuracy: \"+str(accTest))"
   ]
  },
  {
   "cell_type": "markdown",
   "id": "ec9bbbc6",
   "metadata": {},
   "source": [
    "### d.) Bucket 4"
   ]
  },
  {
   "cell_type": "code",
   "execution_count": 76,
   "id": "74b0c9d9",
   "metadata": {},
   "outputs": [],
   "source": [
    "clf=tree.DecisionTreeClassifier()\n",
    "clf=clf.fit(XTrainb4,yTrainb4)\n",
    "y_test=clf.predict(XTestb4)\n",
    "y_valid=clf.predict(XValidb4)\n",
    "y_train=clf.predict(XTrainb4)"
   ]
  },
  {
   "cell_type": "code",
   "execution_count": 77,
   "id": "99e51234",
   "metadata": {},
   "outputs": [
    {
     "name": "stdout",
     "output_type": "stream",
     "text": [
      "Train Accuracy: 1.0\n",
      "Validation Accuracy: 0.3270440251572327\n",
      "Test Accuracy: 0.39622641509433965\n"
     ]
    }
   ],
   "source": [
    "accTest=accuracy_score(yTestb4, y_test)\n",
    "accValid=accuracy_score(yValidb4, y_valid)\n",
    "accTrain=accuracy_score(yTrainb4, y_train)\n",
    "\n",
    "print(\"Train Accuracy: \"+str(accTrain))\n",
    "print(\"Validation Accuracy: \"+str(accValid))\n",
    "print(\"Test Accuracy: \"+str(accTest))"
   ]
  },
  {
   "cell_type": "markdown",
   "id": "8958506f",
   "metadata": {},
   "source": [
    "## 6. Gaussian Naive Bayes <a class=\"anchor\" id=\"Naive\"></a>"
   ]
  },
  {
   "cell_type": "markdown",
   "id": "58b50962",
   "metadata": {},
   "source": [
    "### a.) Bucket 1"
   ]
  },
  {
   "cell_type": "code",
   "execution_count": 87,
   "id": "43876d72",
   "metadata": {},
   "outputs": [],
   "source": [
    "gnb = GaussianNB()\n",
    "gnb.fit(XTrainb1, yTrainb1)\n",
    "y_test = gnb.predict(XTestb1)\n",
    "y_valid = gnb.predict(XValidb1)\n",
    "y_train = gnb.predict(XTrainb1)"
   ]
  },
  {
   "cell_type": "code",
   "execution_count": 88,
   "id": "60afbe9e",
   "metadata": {},
   "outputs": [
    {
     "name": "stdout",
     "output_type": "stream",
     "text": [
      "Train Accuracy: 0.4745762711864407\n",
      "Validation Accuracy: 0.4152542372881356\n",
      "Test Accuracy: 0.36134453781512604\n"
     ]
    }
   ],
   "source": [
    "accTest=accuracy_score(yTestb1, y_test)\n",
    "accTrain=accuracy_score(yTrainb1, y_train)\n",
    "accValid=accuracy_score(yValidb1, y_valid)\n",
    "\n",
    "print(\"Train Accuracy: \"+str(accTrain))\n",
    "print(\"Validation Accuracy: \"+str(accValid))\n",
    "print(\"Test Accuracy: \"+str(accTest))"
   ]
  },
  {
   "cell_type": "markdown",
   "id": "fbfd25d0",
   "metadata": {},
   "source": [
    "### b.) Bucket 2"
   ]
  },
  {
   "cell_type": "code",
   "execution_count": 89,
   "id": "db471862",
   "metadata": {},
   "outputs": [],
   "source": [
    "gnb = GaussianNB()\n",
    "gnb.fit(XTrainb2, yTrainb2)\n",
    "y_test = gnb.predict(XTestb2)\n",
    "y_valid = gnb.predict(XValidb2)\n",
    "y_train = gnb.predict(XTrainb2)"
   ]
  },
  {
   "cell_type": "code",
   "execution_count": 90,
   "id": "f6ff5765",
   "metadata": {},
   "outputs": [
    {
     "name": "stdout",
     "output_type": "stream",
     "text": [
      "Train Accuracy: 0.5050709939148073\n",
      "Validation Accuracy: 0.4121212121212121\n",
      "Test Accuracy: 0.4727272727272727\n"
     ]
    }
   ],
   "source": [
    "accTest=accuracy_score(yTestb2, y_test)\n",
    "accTrain=accuracy_score(yTrainb2, y_train)\n",
    "accValid=accuracy_score(yValidb2, y_valid)\n",
    "\n",
    "print(\"Train Accuracy: \"+str(accTrain))\n",
    "print(\"Validation Accuracy: \"+str(accValid))\n",
    "print(\"Test Accuracy: \"+str(accTest))"
   ]
  },
  {
   "cell_type": "markdown",
   "id": "c2ff68ac",
   "metadata": {},
   "source": [
    "### c.) Bucket 3"
   ]
  },
  {
   "cell_type": "code",
   "execution_count": 91,
   "id": "bb4f62df",
   "metadata": {},
   "outputs": [],
   "source": [
    "gnb = GaussianNB()\n",
    "gnb.fit(XTrainb3, yTrainb3)\n",
    "y_test = gnb.predict(XTestb3)\n",
    "y_valid = gnb.predict(XValidb3)\n",
    "y_train = gnb.predict(XTrainb3)"
   ]
  },
  {
   "cell_type": "code",
   "execution_count": 92,
   "id": "552e7419",
   "metadata": {},
   "outputs": [
    {
     "name": "stdout",
     "output_type": "stream",
     "text": [
      "Train Accuracy: 0.5048076923076923\n",
      "Validation Accuracy: 0.5336538461538461\n",
      "Test Accuracy: 0.4375\n"
     ]
    }
   ],
   "source": [
    "accTest=accuracy_score(yTestb3, y_test)\n",
    "accTrain=accuracy_score(yTrainb3, y_train)\n",
    "accValid=accuracy_score(yValidb3, y_valid)\n",
    "\n",
    "print(\"Train Accuracy: \"+str(accTrain))\n",
    "print(\"Validation Accuracy: \"+str(accValid))\n",
    "print(\"Test Accuracy: \"+str(accTest))"
   ]
  },
  {
   "cell_type": "markdown",
   "id": "20b86938",
   "metadata": {},
   "source": [
    "### d.) Bucket 4"
   ]
  },
  {
   "cell_type": "code",
   "execution_count": 96,
   "id": "1d5c828a",
   "metadata": {},
   "outputs": [],
   "source": [
    "gnb = GaussianNB()\n",
    "gnb.fit(XTrainb4, yTrainb4)\n",
    "y_test = gnb.predict(XTestb4)\n",
    "y_valid = gnb.predict(XValidb4)\n",
    "y_train = gnb.predict(XTrainb4)"
   ]
  },
  {
   "cell_type": "code",
   "execution_count": 97,
   "id": "cfcec5f0",
   "metadata": {},
   "outputs": [
    {
     "name": "stdout",
     "output_type": "stream",
     "text": [
      "Train Accuracy: 0.4957983193277311\n",
      "Validation Accuracy: 0.4276729559748428\n",
      "Test Accuracy: 0.389937106918239\n"
     ]
    }
   ],
   "source": [
    "accTest=accuracy_score(yTestb4, y_test)\n",
    "accTrain=accuracy_score(yTrainb4, y_train)\n",
    "accValid=accuracy_score(yValidb4, y_valid)\n",
    "\n",
    "print(\"Train Accuracy: \"+str(accTrain))\n",
    "print(\"Validation Accuracy: \"+str(accValid))\n",
    "print(\"Test Accuracy: \"+str(accTest))"
   ]
  }
 ],
 "metadata": {
  "kernelspec": {
   "display_name": "Python 3 (ipykernel)",
   "language": "python",
   "name": "python3"
  },
  "language_info": {
   "codemirror_mode": {
    "name": "ipython",
    "version": 3
   },
   "file_extension": ".py",
   "mimetype": "text/x-python",
   "name": "python",
   "nbconvert_exporter": "python",
   "pygments_lexer": "ipython3",
   "version": "3.9.5"
  }
 },
 "nbformat": 4,
 "nbformat_minor": 5
}
