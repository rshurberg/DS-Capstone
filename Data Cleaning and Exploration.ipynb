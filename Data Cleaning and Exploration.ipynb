{
 "cells": [
  {
   "cell_type": "markdown",
   "id": "824d2778",
   "metadata": {},
   "source": [
    "# Data Cleaning and Exploration\n",
    "By Rachel Shurberg\n",
    "\n",
    "1. [Import the Data](#Import)\n",
    "2. [Cleaning the Data](#cleaning)\n",
    "3. [Make Bucket Data Sets by Division](#buckets)\n",
    "4. [Update the Data with More Metrics](#Update)\n",
    "5. [Data Exploration](#Explore)\n",
    "6. [Data Visualizations](#Visual)"
   ]
  },
  {
   "cell_type": "markdown",
   "id": "59edad38",
   "metadata": {},
   "source": [
    "## 1. Import the Data <a class=\"anchor\" id=\"Import\"></a>"
   ]
  },
  {
   "cell_type": "code",
   "execution_count": 2,
   "id": "cd6261a0",
   "metadata": {},
   "outputs": [
    {
     "name": "stdout",
     "output_type": "stream",
     "text": [
      "(5958, 32)\n"
     ]
    },
    {
     "data": {
      "text/html": [
       "<div>\n",
       "<style scoped>\n",
       "    .dataframe tbody tr th:only-of-type {\n",
       "        vertical-align: middle;\n",
       "    }\n",
       "\n",
       "    .dataframe tbody tr th {\n",
       "        vertical-align: top;\n",
       "    }\n",
       "\n",
       "    .dataframe thead th {\n",
       "        text-align: right;\n",
       "    }\n",
       "</style>\n",
       "<table border=\"1\" class=\"dataframe\">\n",
       "  <thead>\n",
       "    <tr style=\"text-align: right;\">\n",
       "      <th></th>\n",
       "      <th>CSE_PlayerID</th>\n",
       "      <th>CSE_EventID</th>\n",
       "      <th>Bucket</th>\n",
       "      <th>Date</th>\n",
       "      <th>CollegeDivision</th>\n",
       "      <th>CollegePlayerType</th>\n",
       "      <th>Obj_FootSpeed_H11</th>\n",
       "      <th>Obj_FootSpeed_H12</th>\n",
       "      <th>Obj_FootSpeed_HH1</th>\n",
       "      <th>Obj_FootSpeed_HH2</th>\n",
       "      <th>...</th>\n",
       "      <th>Obj_ExitVelo_Swing3</th>\n",
       "      <th>Plane</th>\n",
       "      <th>Connection</th>\n",
       "      <th>Rotation</th>\n",
       "      <th>BatSpeed</th>\n",
       "      <th>RotationalAcceleration</th>\n",
       "      <th>OnPlaneEfficiency</th>\n",
       "      <th>Power</th>\n",
       "      <th>TimeToContact</th>\n",
       "      <th>PeakHandSpeed</th>\n",
       "    </tr>\n",
       "  </thead>\n",
       "  <tbody>\n",
       "    <tr>\n",
       "      <th>0</th>\n",
       "      <td>1312.0</td>\n",
       "      <td>516.0</td>\n",
       "      <td>4.0</td>\n",
       "      <td>10/12/2020</td>\n",
       "      <td>NaN</td>\n",
       "      <td>NaN</td>\n",
       "      <td>NaN</td>\n",
       "      <td>NaN</td>\n",
       "      <td>NaN</td>\n",
       "      <td>NaN</td>\n",
       "      <td>...</td>\n",
       "      <td>NaN</td>\n",
       "      <td>NaN</td>\n",
       "      <td>NaN</td>\n",
       "      <td>NaN</td>\n",
       "      <td>NaN</td>\n",
       "      <td>NaN</td>\n",
       "      <td>NaN</td>\n",
       "      <td>NaN</td>\n",
       "      <td>NaN</td>\n",
       "      <td>NaN</td>\n",
       "    </tr>\n",
       "    <tr>\n",
       "      <th>1</th>\n",
       "      <td>1313.0</td>\n",
       "      <td>516.0</td>\n",
       "      <td>4.0</td>\n",
       "      <td>10/12/2020</td>\n",
       "      <td>NaN</td>\n",
       "      <td>NaN</td>\n",
       "      <td>3.25</td>\n",
       "      <td>3.20</td>\n",
       "      <td>13.02</td>\n",
       "      <td>12.67</td>\n",
       "      <td>...</td>\n",
       "      <td>NaN</td>\n",
       "      <td>53.0</td>\n",
       "      <td>42.0</td>\n",
       "      <td>71.0</td>\n",
       "      <td>59.7</td>\n",
       "      <td>14.9</td>\n",
       "      <td>66.0</td>\n",
       "      <td>2.25</td>\n",
       "      <td>0.16</td>\n",
       "      <td>16.0</td>\n",
       "    </tr>\n",
       "    <tr>\n",
       "      <th>2</th>\n",
       "      <td>1314.0</td>\n",
       "      <td>516.0</td>\n",
       "      <td>4.0</td>\n",
       "      <td>10/12/2020</td>\n",
       "      <td>NaN</td>\n",
       "      <td>NaN</td>\n",
       "      <td>3.03</td>\n",
       "      <td>2.82</td>\n",
       "      <td>11.96</td>\n",
       "      <td>11.76</td>\n",
       "      <td>...</td>\n",
       "      <td>NaN</td>\n",
       "      <td>69.0</td>\n",
       "      <td>58.0</td>\n",
       "      <td>48.0</td>\n",
       "      <td>52.7</td>\n",
       "      <td>7.3</td>\n",
       "      <td>82.0</td>\n",
       "      <td>1.44</td>\n",
       "      <td>0.19</td>\n",
       "      <td>14.9</td>\n",
       "    </tr>\n",
       "    <tr>\n",
       "      <th>3</th>\n",
       "      <td>1315.0</td>\n",
       "      <td>516.0</td>\n",
       "      <td>4.0</td>\n",
       "      <td>10/12/2020</td>\n",
       "      <td>NaN</td>\n",
       "      <td>NaN</td>\n",
       "      <td>3.39</td>\n",
       "      <td>3.19</td>\n",
       "      <td>12.64</td>\n",
       "      <td>12.79</td>\n",
       "      <td>...</td>\n",
       "      <td>NaN</td>\n",
       "      <td>57.0</td>\n",
       "      <td>58.0</td>\n",
       "      <td>58.0</td>\n",
       "      <td>64.1</td>\n",
       "      <td>10.5</td>\n",
       "      <td>70.0</td>\n",
       "      <td>2.39</td>\n",
       "      <td>0.17</td>\n",
       "      <td>20.1</td>\n",
       "    </tr>\n",
       "    <tr>\n",
       "      <th>4</th>\n",
       "      <td>1316.0</td>\n",
       "      <td>516.0</td>\n",
       "      <td>4.0</td>\n",
       "      <td>10/12/2020</td>\n",
       "      <td>NaN</td>\n",
       "      <td>NaN</td>\n",
       "      <td>2.84</td>\n",
       "      <td>3.13</td>\n",
       "      <td>13.22</td>\n",
       "      <td>13.06</td>\n",
       "      <td>...</td>\n",
       "      <td>NaN</td>\n",
       "      <td>44.0</td>\n",
       "      <td>44.0</td>\n",
       "      <td>40.0</td>\n",
       "      <td>53.4</td>\n",
       "      <td>4.7</td>\n",
       "      <td>56.0</td>\n",
       "      <td>1.32</td>\n",
       "      <td>0.18</td>\n",
       "      <td>15.7</td>\n",
       "    </tr>\n",
       "    <tr>\n",
       "      <th>...</th>\n",
       "      <td>...</td>\n",
       "      <td>...</td>\n",
       "      <td>...</td>\n",
       "      <td>...</td>\n",
       "      <td>...</td>\n",
       "      <td>...</td>\n",
       "      <td>...</td>\n",
       "      <td>...</td>\n",
       "      <td>...</td>\n",
       "      <td>...</td>\n",
       "      <td>...</td>\n",
       "      <td>...</td>\n",
       "      <td>...</td>\n",
       "      <td>...</td>\n",
       "      <td>...</td>\n",
       "      <td>...</td>\n",
       "      <td>...</td>\n",
       "      <td>...</td>\n",
       "      <td>...</td>\n",
       "      <td>...</td>\n",
       "      <td>...</td>\n",
       "    </tr>\n",
       "    <tr>\n",
       "      <th>5953</th>\n",
       "      <td>7283.0</td>\n",
       "      <td>1829.0</td>\n",
       "      <td>4.0</td>\n",
       "      <td>2/24/2023</td>\n",
       "      <td>NAIA</td>\n",
       "      <td>Role Player</td>\n",
       "      <td>NaN</td>\n",
       "      <td>NaN</td>\n",
       "      <td>NaN</td>\n",
       "      <td>NaN</td>\n",
       "      <td>...</td>\n",
       "      <td>NaN</td>\n",
       "      <td>53.0</td>\n",
       "      <td>42.0</td>\n",
       "      <td>45.0</td>\n",
       "      <td>49.9</td>\n",
       "      <td>6.3</td>\n",
       "      <td>66.0</td>\n",
       "      <td>1.23</td>\n",
       "      <td>0.20</td>\n",
       "      <td>14.2</td>\n",
       "    </tr>\n",
       "    <tr>\n",
       "      <th>5954</th>\n",
       "      <td>10284.0</td>\n",
       "      <td>1829.0</td>\n",
       "      <td>4.0</td>\n",
       "      <td>2/24/2023</td>\n",
       "      <td>NAIA</td>\n",
       "      <td>Role Player</td>\n",
       "      <td>NaN</td>\n",
       "      <td>NaN</td>\n",
       "      <td>NaN</td>\n",
       "      <td>NaN</td>\n",
       "      <td>...</td>\n",
       "      <td>NaN</td>\n",
       "      <td>NaN</td>\n",
       "      <td>NaN</td>\n",
       "      <td>NaN</td>\n",
       "      <td>NaN</td>\n",
       "      <td>NaN</td>\n",
       "      <td>NaN</td>\n",
       "      <td>NaN</td>\n",
       "      <td>NaN</td>\n",
       "      <td>NaN</td>\n",
       "    </tr>\n",
       "    <tr>\n",
       "      <th>5955</th>\n",
       "      <td>10279.0</td>\n",
       "      <td>1829.0</td>\n",
       "      <td>4.0</td>\n",
       "      <td>2/24/2023</td>\n",
       "      <td>NAIA</td>\n",
       "      <td>Starter</td>\n",
       "      <td>NaN</td>\n",
       "      <td>NaN</td>\n",
       "      <td>NaN</td>\n",
       "      <td>NaN</td>\n",
       "      <td>...</td>\n",
       "      <td>NaN</td>\n",
       "      <td>NaN</td>\n",
       "      <td>NaN</td>\n",
       "      <td>NaN</td>\n",
       "      <td>NaN</td>\n",
       "      <td>NaN</td>\n",
       "      <td>NaN</td>\n",
       "      <td>NaN</td>\n",
       "      <td>NaN</td>\n",
       "      <td>NaN</td>\n",
       "    </tr>\n",
       "    <tr>\n",
       "      <th>5956</th>\n",
       "      <td>7280.0</td>\n",
       "      <td>1829.0</td>\n",
       "      <td>4.0</td>\n",
       "      <td>2/24/2023</td>\n",
       "      <td>NAIA</td>\n",
       "      <td>Role Player</td>\n",
       "      <td>NaN</td>\n",
       "      <td>NaN</td>\n",
       "      <td>NaN</td>\n",
       "      <td>NaN</td>\n",
       "      <td>...</td>\n",
       "      <td>NaN</td>\n",
       "      <td>54.0</td>\n",
       "      <td>52.0</td>\n",
       "      <td>54.0</td>\n",
       "      <td>58.7</td>\n",
       "      <td>9.2</td>\n",
       "      <td>67.0</td>\n",
       "      <td>2.12</td>\n",
       "      <td>0.16</td>\n",
       "      <td>16.5</td>\n",
       "    </tr>\n",
       "    <tr>\n",
       "      <th>5957</th>\n",
       "      <td>10281.0</td>\n",
       "      <td>1829.0</td>\n",
       "      <td>4.0</td>\n",
       "      <td>2/24/2023</td>\n",
       "      <td>NAIA</td>\n",
       "      <td>Starter</td>\n",
       "      <td>NaN</td>\n",
       "      <td>NaN</td>\n",
       "      <td>NaN</td>\n",
       "      <td>NaN</td>\n",
       "      <td>...</td>\n",
       "      <td>NaN</td>\n",
       "      <td>NaN</td>\n",
       "      <td>NaN</td>\n",
       "      <td>NaN</td>\n",
       "      <td>NaN</td>\n",
       "      <td>NaN</td>\n",
       "      <td>NaN</td>\n",
       "      <td>NaN</td>\n",
       "      <td>NaN</td>\n",
       "      <td>NaN</td>\n",
       "    </tr>\n",
       "  </tbody>\n",
       "</table>\n",
       "<p>5958 rows × 32 columns</p>\n",
       "</div>"
      ],
      "text/plain": [
       "      CSE_PlayerID  CSE_EventID  Bucket        Date CollegeDivision  \\\n",
       "0           1312.0        516.0     4.0  10/12/2020             NaN   \n",
       "1           1313.0        516.0     4.0  10/12/2020             NaN   \n",
       "2           1314.0        516.0     4.0  10/12/2020             NaN   \n",
       "3           1315.0        516.0     4.0  10/12/2020             NaN   \n",
       "4           1316.0        516.0     4.0  10/12/2020             NaN   \n",
       "...            ...          ...     ...         ...             ...   \n",
       "5953        7283.0       1829.0     4.0   2/24/2023            NAIA   \n",
       "5954       10284.0       1829.0     4.0   2/24/2023            NAIA   \n",
       "5955       10279.0       1829.0     4.0   2/24/2023            NAIA   \n",
       "5956        7280.0       1829.0     4.0   2/24/2023            NAIA   \n",
       "5957       10281.0       1829.0     4.0   2/24/2023            NAIA   \n",
       "\n",
       "     CollegePlayerType  Obj_FootSpeed_H11  Obj_FootSpeed_H12  \\\n",
       "0                  NaN                NaN                NaN   \n",
       "1                  NaN               3.25               3.20   \n",
       "2                  NaN               3.03               2.82   \n",
       "3                  NaN               3.39               3.19   \n",
       "4                  NaN               2.84               3.13   \n",
       "...                ...                ...                ...   \n",
       "5953       Role Player                NaN                NaN   \n",
       "5954       Role Player                NaN                NaN   \n",
       "5955           Starter                NaN                NaN   \n",
       "5956       Role Player                NaN                NaN   \n",
       "5957           Starter                NaN                NaN   \n",
       "\n",
       "      Obj_FootSpeed_HH1  Obj_FootSpeed_HH2  ...  Obj_ExitVelo_Swing3  Plane  \\\n",
       "0                   NaN                NaN  ...                  NaN    NaN   \n",
       "1                 13.02              12.67  ...                  NaN   53.0   \n",
       "2                 11.96              11.76  ...                  NaN   69.0   \n",
       "3                 12.64              12.79  ...                  NaN   57.0   \n",
       "4                 13.22              13.06  ...                  NaN   44.0   \n",
       "...                 ...                ...  ...                  ...    ...   \n",
       "5953                NaN                NaN  ...                  NaN   53.0   \n",
       "5954                NaN                NaN  ...                  NaN    NaN   \n",
       "5955                NaN                NaN  ...                  NaN    NaN   \n",
       "5956                NaN                NaN  ...                  NaN   54.0   \n",
       "5957                NaN                NaN  ...                  NaN    NaN   \n",
       "\n",
       "      Connection  Rotation  BatSpeed  RotationalAcceleration  \\\n",
       "0            NaN       NaN       NaN                     NaN   \n",
       "1           42.0      71.0      59.7                    14.9   \n",
       "2           58.0      48.0      52.7                     7.3   \n",
       "3           58.0      58.0      64.1                    10.5   \n",
       "4           44.0      40.0      53.4                     4.7   \n",
       "...          ...       ...       ...                     ...   \n",
       "5953        42.0      45.0      49.9                     6.3   \n",
       "5954         NaN       NaN       NaN                     NaN   \n",
       "5955         NaN       NaN       NaN                     NaN   \n",
       "5956        52.0      54.0      58.7                     9.2   \n",
       "5957         NaN       NaN       NaN                     NaN   \n",
       "\n",
       "      OnPlaneEfficiency  Power  TimeToContact  PeakHandSpeed  \n",
       "0                   NaN    NaN            NaN            NaN  \n",
       "1                  66.0   2.25           0.16           16.0  \n",
       "2                  82.0   1.44           0.19           14.9  \n",
       "3                  70.0   2.39           0.17           20.1  \n",
       "4                  56.0   1.32           0.18           15.7  \n",
       "...                 ...    ...            ...            ...  \n",
       "5953               66.0   1.23           0.20           14.2  \n",
       "5954                NaN    NaN            NaN            NaN  \n",
       "5955                NaN    NaN            NaN            NaN  \n",
       "5956               67.0   2.12           0.16           16.5  \n",
       "5957                NaN    NaN            NaN            NaN  \n",
       "\n",
       "[5958 rows x 32 columns]"
      ]
     },
     "execution_count": 2,
     "metadata": {},
     "output_type": "execute_result"
    }
   ],
   "source": [
    "import pandas as pd\n",
    "\n",
    "data = pd.read_csv('Player Data with Blast.csv')\n",
    "print(data.shape)\n",
    "data"
   ]
  },
  {
   "cell_type": "code",
   "execution_count": 4,
   "id": "11e18663",
   "metadata": {},
   "outputs": [
    {
     "data": {
      "text/plain": [
       "Index(['CSE_PlayerID', 'CSE_EventID', 'UniversityName', 'Bucket', 'Date',\n",
       "       'CollegeDivision', 'CollegePlayerType', 'Obj_FootSpeed_H11',\n",
       "       'Obj_FootSpeed_H12', 'Obj_FootSpeed_HH1', 'Obj_FootSpeed_HH2',\n",
       "       'Obj_ArmVelo_Throw1', 'Obj_ArmVelo_Throw2', 'Obj_ArmVelo_Throw3',\n",
       "       'Obj_ArmVelo_Throw4', 'Obj_ArmVelo_Throw5', 'Obj_ArmVelo_Throw6',\n",
       "       'Obj_PopTime_Throw1', 'Obj_PopTime_Throw2', 'Obj_PopTime_Throw3',\n",
       "       'Obj_PopTime_Throw4', 'Obj_ExitVelo_Swing1', 'Obj_ExitVelo_Swing2',\n",
       "       'Obj_ExitVelo_Swing3', 'Plane', 'Connection', 'Rotation', 'BatSpeed',\n",
       "       'RotationalAcceleration', 'OnPlaneEfficiency', 'Power', 'TimeToContact',\n",
       "       'PeakHandSpeed'],\n",
       "      dtype='object')"
      ]
     },
     "execution_count": 4,
     "metadata": {},
     "output_type": "execute_result"
    }
   ],
   "source": [
    "data.columns"
   ]
  },
  {
   "cell_type": "markdown",
   "id": "9ff79840",
   "metadata": {},
   "source": [
    "## 2. Data Cleaning <a class=\"anchor\" id=\"cleaning\"></a>\n",
    "The data cleaning consists of removing any players from the dataset if they don't have a collegePlayerType. The average of each metric is calculated and added as a new variable. The number of non-empty average values is calculated and added as a variable. The pop time metric is dropped since only catchers are tested on that, so most of the players don't have those values."
   ]
  },
  {
   "cell_type": "markdown",
   "id": "13d95bb4",
   "metadata": {},
   "source": [
    "### Drop players without a player type label:"
   ]
  },
  {
   "cell_type": "code",
   "execution_count": 73,
   "id": "b5633a68",
   "metadata": {},
   "outputs": [],
   "source": [
    "data2 = data[(data['CollegePlayerType']=='Role Player') |  (data['CollegePlayerType']=='Impact Player') |  (data['CollegePlayerType']=='Starter')]"
   ]
  },
  {
   "cell_type": "code",
   "execution_count": 74,
   "id": "5b8645d4",
   "metadata": {},
   "outputs": [
    {
     "data": {
      "text/plain": [
       "(5958, 33)"
      ]
     },
     "execution_count": 74,
     "metadata": {},
     "output_type": "execute_result"
    }
   ],
   "source": [
    "data.shape"
   ]
  },
  {
   "cell_type": "code",
   "execution_count": 75,
   "id": "a9abfba4",
   "metadata": {},
   "outputs": [
    {
     "data": {
      "text/plain": [
       "(5400, 33)"
      ]
     },
     "execution_count": 75,
     "metadata": {},
     "output_type": "execute_result"
    }
   ],
   "source": [
    "data2.shape"
   ]
  },
  {
   "cell_type": "code",
   "execution_count": 106,
   "id": "5251878f",
   "metadata": {
    "scrolled": true
   },
   "outputs": [
    {
     "data": {
      "text/html": [
       "<div>\n",
       "<style scoped>\n",
       "    .dataframe tbody tr th:only-of-type {\n",
       "        vertical-align: middle;\n",
       "    }\n",
       "\n",
       "    .dataframe tbody tr th {\n",
       "        vertical-align: top;\n",
       "    }\n",
       "\n",
       "    .dataframe thead th {\n",
       "        text-align: right;\n",
       "    }\n",
       "</style>\n",
       "<table border=\"1\" class=\"dataframe\">\n",
       "  <thead>\n",
       "    <tr style=\"text-align: right;\">\n",
       "      <th></th>\n",
       "      <th>CSE_PlayerID</th>\n",
       "      <th>CSE_EventID</th>\n",
       "      <th>UniversityName</th>\n",
       "      <th>Bucket</th>\n",
       "      <th>Date</th>\n",
       "      <th>CollegeDivision</th>\n",
       "      <th>CollegePlayerType</th>\n",
       "      <th>Obj_FootSpeed_H11</th>\n",
       "      <th>Obj_FootSpeed_H12</th>\n",
       "      <th>Obj_FootSpeed_HH1</th>\n",
       "      <th>...</th>\n",
       "      <th>Obj_ExitVelo_Swing3</th>\n",
       "      <th>Plane</th>\n",
       "      <th>Connection</th>\n",
       "      <th>Rotation</th>\n",
       "      <th>BatSpeed</th>\n",
       "      <th>RotationalAcceleration</th>\n",
       "      <th>OnPlaneEfficiency</th>\n",
       "      <th>Power</th>\n",
       "      <th>TimeToContact</th>\n",
       "      <th>PeakHandSpeed</th>\n",
       "    </tr>\n",
       "  </thead>\n",
       "  <tbody>\n",
       "    <tr>\n",
       "      <th>153</th>\n",
       "      <td>3351.0</td>\n",
       "      <td>617.0</td>\n",
       "      <td>University of Minnesota Crookston</td>\n",
       "      <td>3.0</td>\n",
       "      <td>2021-09-08</td>\n",
       "      <td>Division 2</td>\n",
       "      <td>Starter</td>\n",
       "      <td>3.34</td>\n",
       "      <td>NaN</td>\n",
       "      <td>13.39</td>\n",
       "      <td>...</td>\n",
       "      <td>NaN</td>\n",
       "      <td>50.0</td>\n",
       "      <td>37.0</td>\n",
       "      <td>48.0</td>\n",
       "      <td>64.0</td>\n",
       "      <td>8.6</td>\n",
       "      <td>65.0</td>\n",
       "      <td>2.44</td>\n",
       "      <td>0.17</td>\n",
       "      <td>19.7</td>\n",
       "    </tr>\n",
       "    <tr>\n",
       "      <th>154</th>\n",
       "      <td>3352.0</td>\n",
       "      <td>617.0</td>\n",
       "      <td>University of Minnesota Crookston</td>\n",
       "      <td>3.0</td>\n",
       "      <td>2021-09-08</td>\n",
       "      <td>Division 2</td>\n",
       "      <td>Starter</td>\n",
       "      <td>NaN</td>\n",
       "      <td>NaN</td>\n",
       "      <td>NaN</td>\n",
       "      <td>...</td>\n",
       "      <td>NaN</td>\n",
       "      <td>NaN</td>\n",
       "      <td>NaN</td>\n",
       "      <td>NaN</td>\n",
       "      <td>NaN</td>\n",
       "      <td>NaN</td>\n",
       "      <td>NaN</td>\n",
       "      <td>NaN</td>\n",
       "      <td>NaN</td>\n",
       "      <td>NaN</td>\n",
       "    </tr>\n",
       "    <tr>\n",
       "      <th>155</th>\n",
       "      <td>3353.0</td>\n",
       "      <td>617.0</td>\n",
       "      <td>University of Minnesota Crookston</td>\n",
       "      <td>3.0</td>\n",
       "      <td>2021-09-08</td>\n",
       "      <td>Division 2</td>\n",
       "      <td>Starter</td>\n",
       "      <td>3.32</td>\n",
       "      <td>NaN</td>\n",
       "      <td>12.55</td>\n",
       "      <td>...</td>\n",
       "      <td>NaN</td>\n",
       "      <td>40.0</td>\n",
       "      <td>57.0</td>\n",
       "      <td>40.0</td>\n",
       "      <td>61.6</td>\n",
       "      <td>5.8</td>\n",
       "      <td>56.0</td>\n",
       "      <td>2.11</td>\n",
       "      <td>0.18</td>\n",
       "      <td>18.0</td>\n",
       "    </tr>\n",
       "    <tr>\n",
       "      <th>156</th>\n",
       "      <td>3354.0</td>\n",
       "      <td>617.0</td>\n",
       "      <td>University of Minnesota Crookston</td>\n",
       "      <td>3.0</td>\n",
       "      <td>2021-09-08</td>\n",
       "      <td>Division 2</td>\n",
       "      <td>Role Player</td>\n",
       "      <td>3.69</td>\n",
       "      <td>NaN</td>\n",
       "      <td>14.29</td>\n",
       "      <td>...</td>\n",
       "      <td>NaN</td>\n",
       "      <td>NaN</td>\n",
       "      <td>NaN</td>\n",
       "      <td>NaN</td>\n",
       "      <td>NaN</td>\n",
       "      <td>NaN</td>\n",
       "      <td>NaN</td>\n",
       "      <td>NaN</td>\n",
       "      <td>NaN</td>\n",
       "      <td>NaN</td>\n",
       "    </tr>\n",
       "    <tr>\n",
       "      <th>157</th>\n",
       "      <td>3355.0</td>\n",
       "      <td>617.0</td>\n",
       "      <td>University of Minnesota Crookston</td>\n",
       "      <td>3.0</td>\n",
       "      <td>2021-09-08</td>\n",
       "      <td>Division 2</td>\n",
       "      <td>Role Player</td>\n",
       "      <td>NaN</td>\n",
       "      <td>NaN</td>\n",
       "      <td>NaN</td>\n",
       "      <td>...</td>\n",
       "      <td>NaN</td>\n",
       "      <td>NaN</td>\n",
       "      <td>NaN</td>\n",
       "      <td>NaN</td>\n",
       "      <td>NaN</td>\n",
       "      <td>NaN</td>\n",
       "      <td>NaN</td>\n",
       "      <td>NaN</td>\n",
       "      <td>NaN</td>\n",
       "      <td>NaN</td>\n",
       "    </tr>\n",
       "  </tbody>\n",
       "</table>\n",
       "<p>5 rows × 33 columns</p>\n",
       "</div>"
      ],
      "text/plain": [
       "     CSE_PlayerID  CSE_EventID                     UniversityName  Bucket  \\\n",
       "153        3351.0        617.0  University of Minnesota Crookston     3.0   \n",
       "154        3352.0        617.0  University of Minnesota Crookston     3.0   \n",
       "155        3353.0        617.0  University of Minnesota Crookston     3.0   \n",
       "156        3354.0        617.0  University of Minnesota Crookston     3.0   \n",
       "157        3355.0        617.0  University of Minnesota Crookston     3.0   \n",
       "\n",
       "           Date CollegeDivision CollegePlayerType  Obj_FootSpeed_H11  \\\n",
       "153  2021-09-08      Division 2           Starter               3.34   \n",
       "154  2021-09-08      Division 2           Starter                NaN   \n",
       "155  2021-09-08      Division 2           Starter               3.32   \n",
       "156  2021-09-08      Division 2       Role Player               3.69   \n",
       "157  2021-09-08      Division 2       Role Player                NaN   \n",
       "\n",
       "     Obj_FootSpeed_H12  Obj_FootSpeed_HH1  ...  Obj_ExitVelo_Swing3  Plane  \\\n",
       "153                NaN              13.39  ...                  NaN   50.0   \n",
       "154                NaN                NaN  ...                  NaN    NaN   \n",
       "155                NaN              12.55  ...                  NaN   40.0   \n",
       "156                NaN              14.29  ...                  NaN    NaN   \n",
       "157                NaN                NaN  ...                  NaN    NaN   \n",
       "\n",
       "     Connection  Rotation  BatSpeed  RotationalAcceleration  \\\n",
       "153        37.0      48.0      64.0                     8.6   \n",
       "154         NaN       NaN       NaN                     NaN   \n",
       "155        57.0      40.0      61.6                     5.8   \n",
       "156         NaN       NaN       NaN                     NaN   \n",
       "157         NaN       NaN       NaN                     NaN   \n",
       "\n",
       "     OnPlaneEfficiency  Power  TimeToContact  PeakHandSpeed  \n",
       "153               65.0   2.44           0.17           19.7  \n",
       "154                NaN    NaN            NaN            NaN  \n",
       "155               56.0   2.11           0.18           18.0  \n",
       "156                NaN    NaN            NaN            NaN  \n",
       "157                NaN    NaN            NaN            NaN  \n",
       "\n",
       "[5 rows x 33 columns]"
      ]
     },
     "execution_count": 106,
     "metadata": {},
     "output_type": "execute_result"
    }
   ],
   "source": [
    "data2.head()"
   ]
  },
  {
   "cell_type": "code",
   "execution_count": 70,
   "id": "88984d37",
   "metadata": {},
   "outputs": [],
   "source": [
    "#data2"
   ]
  },
  {
   "cell_type": "code",
   "execution_count": 92,
   "id": "459bc8e9",
   "metadata": {},
   "outputs": [],
   "source": [
    "statsDict={'H1':['Obj_FootSpeed_H11','Obj_FootSpeed_H12',],\n",
    "           'HH':['Obj_FootSpeed_HH1','Obj_FootSpeed_HH2'],\n",
    "          'armVelo':['Obj_ArmVelo_Throw1','Obj_ArmVelo_Throw2','Obj_ArmVelo_Throw3','Obj_ArmVelo_Throw4','Obj_ArmVelo_Throw5','Obj_ArmVelo_Throw6'],\n",
    "        'popTime':['Obj_PopTime_Throw1','Obj_PopTime_Throw2','Obj_PopTime_Throw3','Obj_PopTime_Throw4'],\n",
    "          'exitVelo':['Obj_ExitVelo_Swing1','Obj_ExitVelo_Swing2','Obj_ExitVelo_Swing3']}"
   ]
  },
  {
   "cell_type": "code",
   "execution_count": 80,
   "id": "ce46b37a",
   "metadata": {},
   "outputs": [],
   "source": [
    "varDict={'H1':[],'HH':[],'armVelo':[],'popTime':[],'exitVelo':[]}"
   ]
  },
  {
   "cell_type": "markdown",
   "id": "4cd5c52a",
   "metadata": {},
   "source": [
    "### Calculate the average of trials for each category:"
   ]
  },
  {
   "cell_type": "code",
   "execution_count": 81,
   "id": "7c26e0e4",
   "metadata": {},
   "outputs": [],
   "source": [
    "import statistics\n",
    "\n",
    "for ind in data2.index:\n",
    "    for stat in statsDict.keys():\n",
    "        #print('*********'+stat+'*********')\n",
    "        statList=[]\n",
    "        for trial in statsDict[stat]:\n",
    "            if data2[trial][ind]>0:\n",
    "                statList.append(data2[trial][ind])\n",
    "        if len(statList)==0:\n",
    "            var=0\n",
    "        else:\n",
    "            var=float(statistics.mean(statList))\n",
    "        #print(var)\n",
    "        varDict[stat].append(var)"
   ]
  },
  {
   "cell_type": "code",
   "execution_count": 82,
   "id": "b26d5dff",
   "metadata": {},
   "outputs": [],
   "source": [
    "dataAvgs=data2"
   ]
  },
  {
   "cell_type": "markdown",
   "id": "93248959",
   "metadata": {},
   "source": [
    "### Add the category averages as their own columns:"
   ]
  },
  {
   "cell_type": "code",
   "execution_count": 83,
   "id": "930a08db",
   "metadata": {},
   "outputs": [],
   "source": [
    "dataAvgs=dataAvgs.assign(H1=varDict['H1'])\n",
    "dataAvgs=dataAvgs.assign(HH=varDict['HH'])\n",
    "dataAvgs=dataAvgs.assign(armVelo=varDict['armVelo'])\n",
    "dataAvgs=dataAvgs.assign(popTime=varDict['popTime'])\n",
    "dataAvgs=dataAvgs.assign(exitVelo=varDict['exitVelo'])"
   ]
  },
  {
   "cell_type": "code",
   "execution_count": 69,
   "id": "bdf80570",
   "metadata": {},
   "outputs": [],
   "source": [
    "#dataAvgs"
   ]
  },
  {
   "cell_type": "code",
   "execution_count": 84,
   "id": "f25530ab",
   "metadata": {},
   "outputs": [
    {
     "data": {
      "text/plain": [
       "153     0.0\n",
       "154     0.0\n",
       "155     0.0\n",
       "156     0.0\n",
       "157     0.0\n",
       "       ... \n",
       "5953    0.0\n",
       "5954    0.0\n",
       "5955    0.0\n",
       "5956    0.0\n",
       "5957    0.0\n",
       "Name: popTime, Length: 5400, dtype: float64"
      ]
     },
     "execution_count": 84,
     "metadata": {},
     "output_type": "execute_result"
    }
   ],
   "source": [
    "# only catchers have poptime\n",
    "dataAvgs['popTime']"
   ]
  },
  {
   "cell_type": "markdown",
   "id": "48a841fd",
   "metadata": {},
   "source": [
    "### Create a variable that says how many categories aren't empty"
   ]
  },
  {
   "cell_type": "code",
   "execution_count": 85,
   "id": "2c08bb2f",
   "metadata": {},
   "outputs": [],
   "source": [
    "notEmptyList=[]\n",
    "\n",
    "for ind in dataAvgs.index:\n",
    "    count=0\n",
    "    for category in varDict.keys():\n",
    "        if dataAvgs[category][ind]!=0:\n",
    "            count+=1\n",
    "    notEmptyList.append(count)       "
   ]
  },
  {
   "cell_type": "code",
   "execution_count": 68,
   "id": "76a92c6b",
   "metadata": {},
   "outputs": [],
   "source": [
    "#notEmptyList"
   ]
  },
  {
   "cell_type": "code",
   "execution_count": 86,
   "id": "7cc718b5",
   "metadata": {},
   "outputs": [],
   "source": [
    "dataAvgs=dataAvgs.assign(notEmpty=notEmptyList)"
   ]
  },
  {
   "cell_type": "code",
   "execution_count": 67,
   "id": "f1bf0f24",
   "metadata": {},
   "outputs": [],
   "source": [
    "#dataAvgs"
   ]
  },
  {
   "cell_type": "markdown",
   "id": "69397aa6",
   "metadata": {},
   "source": [
    "### Find the number of empty values in each category"
   ]
  },
  {
   "cell_type": "code",
   "execution_count": 87,
   "id": "646f2e50",
   "metadata": {},
   "outputs": [
    {
     "data": {
      "text/plain": [
       "0.000    1086\n",
       "3.080      69\n",
       "3.000      69\n",
       "3.200      68\n",
       "3.050      68\n",
       "         ... \n",
       "3.520       1\n",
       "3.565       1\n",
       "3.555       1\n",
       "2.620       1\n",
       "3.930       1\n",
       "Name: H1, Length: 318, dtype: int64"
      ]
     },
     "execution_count": 87,
     "metadata": {},
     "output_type": "execute_result"
    }
   ],
   "source": [
    "dataAvgs['H1'].value_counts()"
   ]
  },
  {
   "cell_type": "code",
   "execution_count": 88,
   "id": "aba388d6",
   "metadata": {},
   "outputs": [
    {
     "data": {
      "text/plain": [
       "0.000     1366\n",
       "12.200      36\n",
       "12.500      36\n",
       "12.700      28\n",
       "12.400      28\n",
       "          ... \n",
       "13.055       1\n",
       "10.890       1\n",
       "14.870       1\n",
       "12.755       1\n",
       "15.440       1\n",
       "Name: HH, Length: 694, dtype: int64"
      ]
     },
     "execution_count": 88,
     "metadata": {},
     "output_type": "execute_result"
    }
   ],
   "source": [
    "dataAvgs['HH'].value_counts()"
   ]
  },
  {
   "cell_type": "code",
   "execution_count": 89,
   "id": "8d73855a",
   "metadata": {},
   "outputs": [
    {
     "data": {
      "text/plain": [
       "0.000000     1170\n",
       "55.000000     124\n",
       "53.000000     123\n",
       "56.000000     122\n",
       "54.000000     121\n",
       "             ... \n",
       "57.600000       1\n",
       "58.400000       1\n",
       "62.750000       1\n",
       "67.250000       1\n",
       "67.166667       1\n",
       "Name: armVelo, Length: 256, dtype: int64"
      ]
     },
     "execution_count": 89,
     "metadata": {},
     "output_type": "execute_result"
    }
   ],
   "source": [
    "dataAvgs['armVelo'].value_counts()"
   ]
  },
  {
   "cell_type": "code",
   "execution_count": 90,
   "id": "310e0c68",
   "metadata": {},
   "outputs": [
    {
     "data": {
      "text/plain": [
       "0.000000    4697\n",
       "1.930000      10\n",
       "1.750000      10\n",
       "1.875000       9\n",
       "1.970000       8\n",
       "            ... \n",
       "2.216667       1\n",
       "2.055000       1\n",
       "2.032500       1\n",
       "1.972500       1\n",
       "1.943333       1\n",
       "Name: popTime, Length: 335, dtype: int64"
      ]
     },
     "execution_count": 90,
     "metadata": {},
     "output_type": "execute_result"
    }
   ],
   "source": [
    "dataAvgs['popTime'].value_counts()"
   ]
  },
  {
   "cell_type": "code",
   "execution_count": 91,
   "id": "5387a37e",
   "metadata": {},
   "outputs": [
    {
     "data": {
      "text/plain": [
       "0.000000     1034\n",
       "64.000000     117\n",
       "65.000000     112\n",
       "66.000000     107\n",
       "62.000000     102\n",
       "             ... \n",
       "77.500000       1\n",
       "80.500000       1\n",
       "36.000000       1\n",
       "73.740000       1\n",
       "79.333333       1\n",
       "Name: exitVelo, Length: 173, dtype: int64"
      ]
     },
     "execution_count": 91,
     "metadata": {},
     "output_type": "execute_result"
    }
   ],
   "source": [
    "dataAvgs['exitVelo'].value_counts()"
   ]
  },
  {
   "cell_type": "code",
   "execution_count": 109,
   "id": "0504a92f",
   "metadata": {},
   "outputs": [
    {
     "data": {
      "text/plain": [
       "59.0    77\n",
       "50.0    75\n",
       "60.0    74\n",
       "52.0    68\n",
       "57.0    67\n",
       "54.0    67\n",
       "62.0    64\n",
       "45.0    62\n",
       "56.0    61\n",
       "61.0    61\n",
       "64.0    60\n",
       "51.0    59\n",
       "48.0    59\n",
       "55.0    59\n",
       "58.0    58\n",
       "66.0    57\n",
       "53.0    56\n",
       "46.0    55\n",
       "49.0    49\n",
       "47.0    47\n",
       "40.0    45\n",
       "67.0    42\n",
       "65.0    42\n",
       "38.0    41\n",
       "68.0    41\n",
       "41.0    39\n",
       "63.0    39\n",
       "42.0    39\n",
       "43.0    35\n",
       "69.0    34\n",
       "71.0    33\n",
       "39.0    31\n",
       "37.0    31\n",
       "44.0    31\n",
       "70.0    29\n",
       "35.0    28\n",
       "72.0    26\n",
       "73.0    25\n",
       "32.0    23\n",
       "36.0    22\n",
       "33.0    21\n",
       "30.0    19\n",
       "76.0    17\n",
       "75.0    16\n",
       "31.0    13\n",
       "34.0    13\n",
       "74.0    13\n",
       "78.0    12\n",
       "29.0    10\n",
       "77.0     9\n",
       "27.0     8\n",
       "28.0     8\n",
       "79.0     7\n",
       "26.0     5\n",
       "21.0     4\n",
       "23.0     3\n",
       "80.0     2\n",
       "25.0     1\n",
       "24.0     1\n",
       "Name: Plane, dtype: int64"
      ]
     },
     "execution_count": 109,
     "metadata": {},
     "output_type": "execute_result"
    }
   ],
   "source": [
    "dataAvgs['Plane'].value_counts()"
   ]
  },
  {
   "cell_type": "code",
   "execution_count": 110,
   "id": "98aac987",
   "metadata": {},
   "outputs": [
    {
     "data": {
      "text/plain": [
       "56.0    101\n",
       "54.0     96\n",
       "58.0     96\n",
       "55.0     90\n",
       "59.0     88\n",
       "57.0     88\n",
       "51.0     86\n",
       "52.0     84\n",
       "49.0     84\n",
       "61.0     81\n",
       "53.0     76\n",
       "47.0     75\n",
       "63.0     72\n",
       "48.0     71\n",
       "50.0     69\n",
       "60.0     67\n",
       "46.0     62\n",
       "62.0     54\n",
       "44.0     53\n",
       "64.0     53\n",
       "45.0     50\n",
       "65.0     49\n",
       "42.0     48\n",
       "66.0     36\n",
       "43.0     36\n",
       "67.0     33\n",
       "68.0     29\n",
       "40.0     28\n",
       "41.0     26\n",
       "38.0     26\n",
       "39.0     25\n",
       "69.0     22\n",
       "37.0     18\n",
       "36.0     18\n",
       "70.0     17\n",
       "34.0     14\n",
       "35.0     10\n",
       "71.0      9\n",
       "72.0      7\n",
       "28.0      6\n",
       "31.0      6\n",
       "33.0      6\n",
       "32.0      5\n",
       "29.0      5\n",
       "74.0      5\n",
       "73.0      4\n",
       "26.0      3\n",
       "27.0      2\n",
       "22.0      1\n",
       "23.0      1\n",
       "75.0      1\n",
       "30.0      1\n",
       "Name: Connection, dtype: int64"
      ]
     },
     "execution_count": 110,
     "metadata": {},
     "output_type": "execute_result"
    }
   ],
   "source": [
    "dataAvgs['Connection'].value_counts()"
   ]
  },
  {
   "cell_type": "code",
   "execution_count": 111,
   "id": "b85a711d",
   "metadata": {},
   "outputs": [
    {
     "data": {
      "text/plain": [
       "48.0    87\n",
       "50.0    85\n",
       "53.0    78\n",
       "51.0    78\n",
       "54.0    76\n",
       "52.0    73\n",
       "47.0    70\n",
       "57.0    69\n",
       "56.0    69\n",
       "49.0    68\n",
       "45.0    67\n",
       "46.0    67\n",
       "55.0    59\n",
       "64.0    57\n",
       "58.0    56\n",
       "44.0    55\n",
       "42.0    54\n",
       "61.0    53\n",
       "62.0    51\n",
       "59.0    50\n",
       "60.0    49\n",
       "43.0    44\n",
       "63.0    44\n",
       "41.0    44\n",
       "66.0    40\n",
       "40.0    39\n",
       "65.0    36\n",
       "79.0    33\n",
       "75.0    32\n",
       "80.0    31\n",
       "72.0    29\n",
       "39.0    29\n",
       "67.0    28\n",
       "70.0    27\n",
       "71.0    26\n",
       "38.0    26\n",
       "69.0    26\n",
       "76.0    24\n",
       "68.0    24\n",
       "78.0    23\n",
       "74.0    21\n",
       "36.0    21\n",
       "37.0    19\n",
       "77.0    18\n",
       "73.0    16\n",
       "35.0    10\n",
       "34.0     5\n",
       "33.0     2\n",
       "32.0     2\n",
       "29.0     1\n",
       "31.0     1\n",
       "28.0     1\n",
       "Name: Rotation, dtype: int64"
      ]
     },
     "execution_count": 111,
     "metadata": {},
     "output_type": "execute_result"
    }
   ],
   "source": [
    "dataAvgs['Rotation'].value_counts()"
   ]
  },
  {
   "cell_type": "code",
   "execution_count": 112,
   "id": "7f5f597d",
   "metadata": {},
   "outputs": [
    {
     "data": {
      "text/plain": [
       "57.0    29\n",
       "54.2    29\n",
       "58.0    27\n",
       "57.2    25\n",
       "58.4    25\n",
       "        ..\n",
       "48.7     1\n",
       "72.3     1\n",
       "47.3     1\n",
       "45.7     1\n",
       "42.0     1\n",
       "Name: BatSpeed, Length: 244, dtype: int64"
      ]
     },
     "execution_count": 112,
     "metadata": {},
     "output_type": "execute_result"
    }
   ],
   "source": [
    "dataAvgs['BatSpeed'].value_counts()"
   ]
  },
  {
   "cell_type": "code",
   "execution_count": 113,
   "id": "481c23e3",
   "metadata": {},
   "outputs": [
    {
     "data": {
      "text/plain": [
       "7.8     31\n",
       "8.1     30\n",
       "7.0     29\n",
       "9.3     28\n",
       "9.2     27\n",
       "        ..\n",
       "16.3     1\n",
       "21.3     1\n",
       "22.6     1\n",
       "2.5      1\n",
       "2.7      1\n",
       "Name: RotationalAcceleration, Length: 211, dtype: int64"
      ]
     },
     "execution_count": 113,
     "metadata": {},
     "output_type": "execute_result"
    }
   ],
   "source": [
    "dataAvgs['RotationalAcceleration'].value_counts()"
   ]
  },
  {
   "cell_type": "code",
   "execution_count": 114,
   "id": "c9de54ce",
   "metadata": {},
   "outputs": [
    {
     "data": {
      "text/plain": [
       "72.0    71\n",
       "71.0    70\n",
       "73.0    67\n",
       "69.0    66\n",
       "65.0    66\n",
       "        ..\n",
       "35.0     2\n",
       "29.0     1\n",
       "34.0     1\n",
       "97.0     1\n",
       "36.0     1\n",
       "Name: OnPlaneEfficiency, Length: 62, dtype: int64"
      ]
     },
     "execution_count": 114,
     "metadata": {},
     "output_type": "execute_result"
    }
   ],
   "source": [
    "dataAvgs['OnPlaneEfficiency'].value_counts()"
   ]
  },
  {
   "cell_type": "code",
   "execution_count": 115,
   "id": "3dc1b015",
   "metadata": {},
   "outputs": [
    {
     "data": {
      "text/plain": [
       "1.79    30\n",
       "1.85    29\n",
       "1.94    29\n",
       "2.00    29\n",
       "2.10    27\n",
       "        ..\n",
       "1.22     1\n",
       "3.24     1\n",
       "3.34     1\n",
       "1.28     1\n",
       "0.89     1\n",
       "Name: Power, Length: 219, dtype: int64"
      ]
     },
     "execution_count": 115,
     "metadata": {},
     "output_type": "execute_result"
    }
   ],
   "source": [
    "dataAvgs['Power'].value_counts()"
   ]
  },
  {
   "cell_type": "code",
   "execution_count": 116,
   "id": "2045dd70",
   "metadata": {},
   "outputs": [
    {
     "data": {
      "text/plain": [
       "0.17    588\n",
       "0.16    519\n",
       "0.18    387\n",
       "0.15    237\n",
       "0.19    198\n",
       "0.20     61\n",
       "0.14     59\n",
       "0.13     19\n",
       "0.21     16\n",
       "0.22      5\n",
       "0.23      2\n",
       "0.27      1\n",
       "0.24      1\n",
       "Name: TimeToContact, dtype: int64"
      ]
     },
     "execution_count": 116,
     "metadata": {},
     "output_type": "execute_result"
    }
   ],
   "source": [
    "dataAvgs['TimeToContact'].value_counts()"
   ]
  },
  {
   "cell_type": "code",
   "execution_count": 117,
   "id": "f3ff0f8e",
   "metadata": {},
   "outputs": [
    {
     "data": {
      "text/plain": [
       "17.7    65\n",
       "17.8    61\n",
       "17.5    56\n",
       "17.6    56\n",
       "16.9    56\n",
       "        ..\n",
       "11.8     1\n",
       "23.6     1\n",
       "13.3     1\n",
       "12.8     1\n",
       "21.9     1\n",
       "Name: PeakHandSpeed, Length: 107, dtype: int64"
      ]
     },
     "execution_count": 117,
     "metadata": {},
     "output_type": "execute_result"
    }
   ],
   "source": [
    "dataAvgs['PeakHandSpeed'].value_counts()"
   ]
  },
  {
   "cell_type": "markdown",
   "id": "0d3c1990",
   "metadata": {},
   "source": [
    "Pop time has the most empty values."
   ]
  },
  {
   "cell_type": "markdown",
   "id": "1e2a0058",
   "metadata": {},
   "source": [
    "### Select data from players that have statistics from at least 3, 4, and 5 categories"
   ]
  },
  {
   "cell_type": "markdown",
   "id": "2a25c3df",
   "metadata": {},
   "source": [
    "At least 3 categories:"
   ]
  },
  {
   "cell_type": "code",
   "execution_count": 93,
   "id": "82bc38c1",
   "metadata": {},
   "outputs": [],
   "source": [
    "data3Plus=dataAvgs[dataAvgs['notEmpty']>=3]"
   ]
  },
  {
   "cell_type": "code",
   "execution_count": 18,
   "id": "b96b1a11",
   "metadata": {},
   "outputs": [
    {
     "data": {
      "text/plain": [
       "(4141, 29)"
      ]
     },
     "execution_count": 18,
     "metadata": {},
     "output_type": "execute_result"
    }
   ],
   "source": [
    "data3Plus.shape"
   ]
  },
  {
   "cell_type": "markdown",
   "id": "f3bf2ccc",
   "metadata": {},
   "source": [
    "At least 4 categories:"
   ]
  },
  {
   "cell_type": "code",
   "execution_count": 94,
   "id": "5e9dd31e",
   "metadata": {},
   "outputs": [],
   "source": [
    "data4Plus=dataAvgs[dataAvgs['notEmpty']>=4]"
   ]
  },
  {
   "cell_type": "code",
   "execution_count": 95,
   "id": "8fbbaa37",
   "metadata": {},
   "outputs": [
    {
     "data": {
      "text/plain": [
       "(3577, 39)"
      ]
     },
     "execution_count": 95,
     "metadata": {},
     "output_type": "execute_result"
    }
   ],
   "source": [
    "data4Plus.shape"
   ]
  },
  {
   "cell_type": "code",
   "execution_count": 108,
   "id": "3eca46d2",
   "metadata": {},
   "outputs": [
    {
     "data": {
      "text/plain": [
       "0.000000    2905\n",
       "1.750000      10\n",
       "1.875000       9\n",
       "1.930000       9\n",
       "1.970000       8\n",
       "            ... \n",
       "1.785000       1\n",
       "1.953333       1\n",
       "2.117500       1\n",
       "2.357500       1\n",
       "1.943333       1\n",
       "Name: popTime, Length: 325, dtype: int64"
      ]
     },
     "execution_count": 108,
     "metadata": {},
     "output_type": "execute_result"
    }
   ],
   "source": [
    "data4Plus['popTime'].value_counts()"
   ]
  },
  {
   "cell_type": "code",
   "execution_count": 97,
   "id": "f9427e8c",
   "metadata": {},
   "outputs": [
    {
     "data": {
      "text/plain": [
       "0.811466058185967"
      ]
     },
     "execution_count": 97,
     "metadata": {},
     "output_type": "execute_result"
    }
   ],
   "source": [
    "# 81% of the players with at least 4 categories have pop time as the empty category\n",
    "2845/3506"
   ]
  },
  {
   "cell_type": "markdown",
   "id": "292fc089",
   "metadata": {},
   "source": [
    "All 5 categories:"
   ]
  },
  {
   "cell_type": "code",
   "execution_count": 98,
   "id": "f2ede2aa",
   "metadata": {},
   "outputs": [],
   "source": [
    "data5Plus=dataAvgs[dataAvgs['notEmpty']>=5]"
   ]
  },
  {
   "cell_type": "code",
   "execution_count": 99,
   "id": "0d62f88c",
   "metadata": {},
   "outputs": [
    {
     "data": {
      "text/plain": [
       "(589, 39)"
      ]
     },
     "execution_count": 99,
     "metadata": {},
     "output_type": "execute_result"
    }
   ],
   "source": [
    "data5Plus.shape"
   ]
  },
  {
   "cell_type": "markdown",
   "id": "b34f9e01",
   "metadata": {},
   "source": [
    "### Drop the popTime column"
   ]
  },
  {
   "cell_type": "code",
   "execution_count": 100,
   "id": "37e629da",
   "metadata": {},
   "outputs": [],
   "source": [
    "dataNoPop=dataAvgs.drop(columns=['popTime'])"
   ]
  },
  {
   "cell_type": "code",
   "execution_count": 101,
   "id": "a2509b14",
   "metadata": {},
   "outputs": [
    {
     "data": {
      "text/plain": [
       "(5400, 38)"
      ]
     },
     "execution_count": 101,
     "metadata": {},
     "output_type": "execute_result"
    }
   ],
   "source": [
    "dataNoPop.shape"
   ]
  },
  {
   "cell_type": "code",
   "execution_count": 66,
   "id": "840f9944",
   "metadata": {},
   "outputs": [],
   "source": [
    "#dataNoPop"
   ]
  },
  {
   "cell_type": "code",
   "execution_count": 102,
   "id": "7305452e",
   "metadata": {},
   "outputs": [],
   "source": [
    "dataAll4=dataNoPop[dataNoPop['notEmpty']>=4]"
   ]
  },
  {
   "cell_type": "code",
   "execution_count": 118,
   "id": "fef70658",
   "metadata": {},
   "outputs": [],
   "source": [
    "dataAll4=dataNoPop[(dataNoPop['H1']>0) & (dataNoPop['HH']>0) & (dataNoPop['armVelo']>0) & (dataNoPop['exitVelo']>0)]"
   ]
  },
  {
   "cell_type": "code",
   "execution_count": 119,
   "id": "0871f5b9",
   "metadata": {},
   "outputs": [
    {
     "data": {
      "text/plain": [
       "(3494, 38)"
      ]
     },
     "execution_count": 119,
     "metadata": {},
     "output_type": "execute_result"
    }
   ],
   "source": [
    "dataAll4.shape"
   ]
  },
  {
   "cell_type": "code",
   "execution_count": 65,
   "id": "b56f92e9",
   "metadata": {},
   "outputs": [],
   "source": [
    "#dataAll4"
   ]
  },
  {
   "cell_type": "code",
   "execution_count": 105,
   "id": "776dd4c9",
   "metadata": {},
   "outputs": [
    {
     "data": {
      "text/plain": [
       "Starter          1468\n",
       "Role Player      1339\n",
       "Impact Player     687\n",
       "Name: CollegePlayerType, dtype: int64"
      ]
     },
     "execution_count": 105,
     "metadata": {},
     "output_type": "execute_result"
    }
   ],
   "source": [
    "dataAll4['CollegePlayerType'].value_counts()"
   ]
  },
  {
   "cell_type": "markdown",
   "id": "ecbe66c2",
   "metadata": {},
   "source": [
    "## 3. Make Bucket Data Sets by Division <a class=\"anchor\" id=\"buckets\"></a>"
   ]
  },
  {
   "cell_type": "markdown",
   "id": "215871a3",
   "metadata": {},
   "source": [
    "Make bucket 1 data set:"
   ]
  },
  {
   "cell_type": "code",
   "execution_count": 130,
   "id": "8f79b84d",
   "metadata": {},
   "outputs": [],
   "source": [
    "datab1=dataAll4[dataAll4['Bucket']==1]"
   ]
  },
  {
   "cell_type": "code",
   "execution_count": 129,
   "id": "d6db0cdb",
   "metadata": {},
   "outputs": [],
   "source": [
    "dataDiv1 = dataAll4[(dataAll4['CollegeDivision']=='Division 1') |  (dataAll4['CollegeDivision']=='Division 1 Mid Major') |  (dataAll4['CollegeDivision']=='Division 1 Mid-Major') | (dataAll4['CollegeDivision']=='Division 1 Mid Majoe') | (dataAll4['CollegeDivision']=='DIvision 1 Mid-Major') | (dataAll4['CollegeDivision']=='Power 5')]"
   ]
  },
  {
   "cell_type": "code",
   "execution_count": 122,
   "id": "e81f8d92",
   "metadata": {},
   "outputs": [
    {
     "data": {
      "text/plain": [
       "(591, 38)"
      ]
     },
     "execution_count": 122,
     "metadata": {},
     "output_type": "execute_result"
    }
   ],
   "source": [
    "datab1.shape"
   ]
  },
  {
   "cell_type": "markdown",
   "id": "5adffbf7",
   "metadata": {},
   "source": [
    "Make bucket 2 data set:"
   ]
  },
  {
   "cell_type": "code",
   "execution_count": 38,
   "id": "fd5441f1",
   "metadata": {},
   "outputs": [],
   "source": [
    "dataDiv2NAIA = dataAll4[(dataAll4['CollegeDivision']=='Division 2') |  (dataAll4['CollegeDivision']=='NAIA')]"
   ]
  },
  {
   "cell_type": "code",
   "execution_count": 123,
   "id": "ba8af22f",
   "metadata": {},
   "outputs": [],
   "source": [
    "#datab2=dataAll4[dataAll4['Bucket']==2]"
   ]
  },
  {
   "cell_type": "code",
   "execution_count": 124,
   "id": "5e311bde",
   "metadata": {},
   "outputs": [
    {
     "data": {
      "text/plain": [
       "(823, 38)"
      ]
     },
     "execution_count": 124,
     "metadata": {},
     "output_type": "execute_result"
    }
   ],
   "source": [
    "datab2.shape"
   ]
  },
  {
   "cell_type": "markdown",
   "id": "79c4001d",
   "metadata": {},
   "source": [
    "Make bucket 3 data set:"
   ]
  },
  {
   "cell_type": "code",
   "execution_count": 125,
   "id": "85d67c12",
   "metadata": {},
   "outputs": [],
   "source": [
    "datab3=dataAll4[dataAll4['Bucket']==3]"
   ]
  },
  {
   "cell_type": "code",
   "execution_count": 134,
   "id": "432e61ad",
   "metadata": {},
   "outputs": [],
   "source": [
    "#dataDiv3 = dataAll4[(dataAll4['CollegeDivision']=='Division 3')]"
   ]
  },
  {
   "cell_type": "code",
   "execution_count": 126,
   "id": "5ca2212e",
   "metadata": {},
   "outputs": [
    {
     "data": {
      "text/plain": [
       "(1040, 38)"
      ]
     },
     "execution_count": 126,
     "metadata": {},
     "output_type": "execute_result"
    }
   ],
   "source": [
    "datab3.shape"
   ]
  },
  {
   "cell_type": "markdown",
   "id": "2b469bb6",
   "metadata": {},
   "source": [
    "Make bucket 4 data set:"
   ]
  },
  {
   "cell_type": "code",
   "execution_count": 132,
   "id": "717a19ee",
   "metadata": {},
   "outputs": [],
   "source": [
    "datab4=dataAll4[dataAll4['Bucket']==4]"
   ]
  },
  {
   "cell_type": "code",
   "execution_count": 42,
   "id": "2e23bc76",
   "metadata": {},
   "outputs": [],
   "source": [
    "#dataJUCO = dataAll4[(dataAll4['CollegeDivision']=='JUCO 1') |  (dataAll4['CollegeDivision']=='JUCO 2') |  (dataAll4['CollegeDivision']=='JUCO 3') | (dataAll4['CollegeDivision']=='Juco 1') | (dataAll4['CollegeDivision']=='Juco 2')]"
   ]
  },
  {
   "cell_type": "code",
   "execution_count": 133,
   "id": "1baf52b2",
   "metadata": {},
   "outputs": [
    {
     "data": {
      "text/plain": [
       "(794, 38)"
      ]
     },
     "execution_count": 133,
     "metadata": {},
     "output_type": "execute_result"
    }
   ],
   "source": [
    "datab4.shape"
   ]
  },
  {
   "cell_type": "markdown",
   "id": "42bbf693",
   "metadata": {},
   "source": [
    "### Save the bucket data sets to csv files"
   ]
  },
  {
   "cell_type": "code",
   "execution_count": 151,
   "id": "0bd7ef0d",
   "metadata": {},
   "outputs": [],
   "source": [
    "datab1.to_csv('b1.csv')\n",
    "datab2.to_csv('b2.csv')\n",
    "datab3.to_csv('b3.csv')\n",
    "datab4.to_csv('b4.csv')"
   ]
  },
  {
   "cell_type": "markdown",
   "id": "cc4e65ea",
   "metadata": {},
   "source": [
    "# 4.) Update the Data with More Metrics <a class=\"anchor\" id=\"Update\"></a>\n",
    "Load the data back into to remove unnecessary columns and impute missing values. Missing values for the new columns are imputed using mean imputation.\n"
   ]
  },
  {
   "cell_type": "code",
   "execution_count": 3,
   "id": "da47bb49",
   "metadata": {},
   "outputs": [],
   "source": [
    "b1 = pd.read_csv('b1.csv')\n",
    "b2 = pd.read_csv('b2.csv')\n",
    "b3 = pd.read_csv('b3.csv')\n",
    "b4 = pd.read_csv('b4.csv')"
   ]
  },
  {
   "cell_type": "code",
   "execution_count": 4,
   "id": "2de25e01",
   "metadata": {},
   "outputs": [],
   "source": [
    "# drop the college player type column\n",
    "b1 = b1.drop(['CSE_PlayerID','CSE_EventID','Bucket','Date','CollegeDivision','Obj_FootSpeed_H11','Obj_FootSpeed_H12','Obj_FootSpeed_HH1', 'Obj_FootSpeed_HH2',\n",
    "       'Obj_ArmVelo_Throw1', 'Obj_ArmVelo_Throw2', 'Obj_ArmVelo_Throw3',\n",
    "       'Obj_ArmVelo_Throw4', 'Obj_ArmVelo_Throw5', 'Obj_ArmVelo_Throw6',\n",
    "       'Obj_PopTime_Throw1', 'Obj_PopTime_Throw2', 'Obj_PopTime_Throw3',\n",
    "       'Obj_PopTime_Throw4', 'Obj_ExitVelo_Swing1', 'Obj_ExitVelo_Swing2',\n",
    "       'Obj_ExitVelo_Swing3','notEmpty','Unnamed: 0'], axis=1)\n",
    "\n",
    "b2 = b2.drop(['CSE_PlayerID','CSE_EventID','Bucket','Date','CollegeDivision','Obj_FootSpeed_H11','Obj_FootSpeed_H12','Obj_FootSpeed_HH1', 'Obj_FootSpeed_HH2',\n",
    "       'Obj_ArmVelo_Throw1', 'Obj_ArmVelo_Throw2', 'Obj_ArmVelo_Throw3',\n",
    "       'Obj_ArmVelo_Throw4', 'Obj_ArmVelo_Throw5', 'Obj_ArmVelo_Throw6',\n",
    "       'Obj_PopTime_Throw1', 'Obj_PopTime_Throw2', 'Obj_PopTime_Throw3',\n",
    "       'Obj_PopTime_Throw4', 'Obj_ExitVelo_Swing1', 'Obj_ExitVelo_Swing2',\n",
    "       'Obj_ExitVelo_Swing3','notEmpty','Unnamed: 0'], axis=1)\n",
    "\n",
    "b3 = b3.drop(['CSE_PlayerID','CSE_EventID','Bucket','Date','CollegeDivision','Obj_FootSpeed_H11','Obj_FootSpeed_H12','Obj_FootSpeed_HH1', 'Obj_FootSpeed_HH2',\n",
    "       'Obj_ArmVelo_Throw1', 'Obj_ArmVelo_Throw2', 'Obj_ArmVelo_Throw3',\n",
    "       'Obj_ArmVelo_Throw4', 'Obj_ArmVelo_Throw5', 'Obj_ArmVelo_Throw6',\n",
    "       'Obj_PopTime_Throw1', 'Obj_PopTime_Throw2', 'Obj_PopTime_Throw3',\n",
    "       'Obj_PopTime_Throw4', 'Obj_ExitVelo_Swing1', 'Obj_ExitVelo_Swing2',\n",
    "       'Obj_ExitVelo_Swing3','notEmpty','Unnamed: 0'], axis=1)\n",
    "\n",
    "b4 = b4.drop(['CSE_PlayerID','CSE_EventID','Bucket','Date','CollegeDivision','Obj_FootSpeed_H11','Obj_FootSpeed_H12','Obj_FootSpeed_HH1', 'Obj_FootSpeed_HH2',\n",
    "       'Obj_ArmVelo_Throw1', 'Obj_ArmVelo_Throw2', 'Obj_ArmVelo_Throw3',\n",
    "       'Obj_ArmVelo_Throw4', 'Obj_ArmVelo_Throw5', 'Obj_ArmVelo_Throw6',\n",
    "       'Obj_PopTime_Throw1', 'Obj_PopTime_Throw2', 'Obj_PopTime_Throw3',\n",
    "       'Obj_PopTime_Throw4', 'Obj_ExitVelo_Swing1', 'Obj_ExitVelo_Swing2',\n",
    "       'Obj_ExitVelo_Swing3','notEmpty','Unnamed: 0'], axis=1)"
   ]
  },
  {
   "cell_type": "code",
   "execution_count": 5,
   "id": "29165dc4",
   "metadata": {},
   "outputs": [
    {
     "data": {
      "text/plain": [
       "Index(['CollegePlayerType', 'Plane', 'Connection', 'Rotation', 'BatSpeed',\n",
       "       'RotationalAcceleration', 'OnPlaneEfficiency', 'Power', 'TimeToContact',\n",
       "       'PeakHandSpeed', 'H1', 'HH', 'armVelo', 'exitVelo'],\n",
       "      dtype='object')"
      ]
     },
     "execution_count": 5,
     "metadata": {},
     "output_type": "execute_result"
    }
   ],
   "source": [
    "b1.columns"
   ]
  },
  {
   "cell_type": "markdown",
   "id": "a8f6a7cf",
   "metadata": {},
   "source": [
    "## Look at distribution of each metric to decide whether to impute the missing data as the mean or median:"
   ]
  },
  {
   "cell_type": "code",
   "execution_count": 61,
   "id": "fe151a86",
   "metadata": {},
   "outputs": [],
   "source": [
    "#import matplotlib.pyplot as plt\n",
    "#for db in [b1,b2,b3,b4]:\n",
    "#    for col in cols:\n",
    "#        db[col].plot(kind='kde')\n",
    "        #db[col].plot(kind='kde', title=col)"
   ]
  },
  {
   "cell_type": "code",
   "execution_count": 32,
   "id": "10ec9a44",
   "metadata": {},
   "outputs": [
    {
     "data": {
      "text/plain": [
       "<AxesSubplot:ylabel='Frequency'>"
      ]
     },
     "execution_count": 32,
     "metadata": {},
     "output_type": "execute_result"
    },
    {
     "data": {
      "image/png": "[encoded data removed]",
      "text/plain": [
       "<Figure size 640x480 with 1 Axes>"
      ]
     },
     "metadata": {},
     "output_type": "display_data"
    }
   ],
   "source": [
    "b4['Rotation'].plot(kind='hist')"
   ]
  },
  {
   "cell_type": "markdown",
   "id": "e79c178b",
   "metadata": {},
   "source": [
    "mean: Plane, Connection,Rotation"
   ]
  },
  {
   "cell_type": "markdown",
   "id": "c2a98fc7",
   "metadata": {},
   "source": [
    "## Replace mssing values for values with the mean of that bucket:"
   ]
  },
  {
   "cell_type": "code",
   "execution_count": 8,
   "id": "42484d27",
   "metadata": {},
   "outputs": [
    {
     "name": "stdout",
     "output_type": "stream",
     "text": [
      "2214\n",
      "4311\n",
      "5022\n",
      "4203\n"
     ]
    }
   ],
   "source": [
    "nan_count1 = b1.isna().sum().sum()\n",
    "nan_count2 = b2.isna().sum().sum()\n",
    "nan_count3 = b3.isna().sum().sum()\n",
    "nan_count4 = b4.isna().sum().sum()\n",
    "print(nan_count1)\n",
    "print(nan_count2)\n",
    "print(nan_count3)\n",
    "print(nan_count4)"
   ]
  },
  {
   "cell_type": "code",
   "execution_count": 11,
   "id": "7299df04",
   "metadata": {},
   "outputs": [],
   "source": [
    "cols=['Plane', 'Connection', 'Rotation', 'BatSpeed','RotationalAcceleration', 'OnPlaneEfficiency', 'Power', 'TimeToContact','PeakHandSpeed', 'H1', 'HH', 'armVelo', 'exitVelo']\n",
    "for db in [b1,b2,b3,b4]:\n",
    "    for col in cols:\n",
    "        mean = db[col].mean()\n",
    "        db[col].fillna(value=mean, inplace=True)"
   ]
  },
  {
   "cell_type": "code",
   "execution_count": 12,
   "id": "4d5e66e0",
   "metadata": {},
   "outputs": [
    {
     "name": "stdout",
     "output_type": "stream",
     "text": [
      "0\n",
      "0\n",
      "0\n",
      "0\n"
     ]
    }
   ],
   "source": [
    "nan_count1 = b1.isna().sum().sum()\n",
    "nan_count2 = b2.isna().sum().sum()\n",
    "nan_count3 = b3.isna().sum().sum()\n",
    "nan_count4 = b4.isna().sum().sum()\n",
    "print(nan_count1)\n",
    "print(nan_count2)\n",
    "print(nan_count3)\n",
    "print(nan_count4)"
   ]
  },
  {
   "cell_type": "code",
   "execution_count": 13,
   "id": "b7a6ce31",
   "metadata": {},
   "outputs": [],
   "source": [
    "b1.to_csv('b1Mean.csv')\n",
    "b2.to_csv('b2Mean.csv')\n",
    "b3.to_csv('b3Mean.csv')\n",
    "b4.to_csv('b4Mean.csv')"
   ]
  },
  {
   "cell_type": "markdown",
   "id": "c32a0597",
   "metadata": {},
   "source": [
    "# 5.) Data Exploration <a class=\"anchor\" id=\"Explore\"></a>"
   ]
  },
  {
   "cell_type": "markdown",
   "id": "7e94c960",
   "metadata": {},
   "source": [
    "### Get averages for each category for each division:\n",
    "The trends show that the times with division and the velocities decrease with division."
   ]
  },
  {
   "cell_type": "code",
   "execution_count": 139,
   "id": "301a61f3",
   "metadata": {},
   "outputs": [
    {
     "data": {
      "text/plain": [
       "H1                         3.096024\n",
       "HH                        12.130423\n",
       "armVelo                   57.933136\n",
       "exitVelo                  67.477022\n",
       "Plane                     51.944928\n",
       "Connection                53.168116\n",
       "Rotation                  55.695652\n",
       "BatSpeed                  60.042319\n",
       "RotationalAcceleration    10.475652\n",
       "OnPlaneEfficiency         65.649275\n",
       "Power                      2.211014\n",
       "TimeToContact              0.166667\n",
       "PeakHandSpeed             18.000870\n",
       "dtype: float64"
      ]
     },
     "execution_count": 139,
     "metadata": {},
     "output_type": "execute_result"
    }
   ],
   "source": [
    "datab1[['H1',\"HH\",'armVelo','exitVelo','Plane','Connection','Rotation','BatSpeed','RotationalAcceleration','OnPlaneEfficiency','Power','TimeToContact','PeakHandSpeed']].mean()"
   ]
  },
  {
   "cell_type": "code",
   "execution_count": 141,
   "id": "318bbd75",
   "metadata": {},
   "outputs": [
    {
     "data": {
      "text/plain": [
       "H1                         3.138414\n",
       "HH                        12.410091\n",
       "armVelo                   56.467132\n",
       "exitVelo                  65.098623\n",
       "Plane                     52.860465\n",
       "Connection                52.895349\n",
       "Rotation                  55.023256\n",
       "BatSpeed                  57.603198\n",
       "RotationalAcceleration     9.968314\n",
       "OnPlaneEfficiency         66.098837\n",
       "Power                      1.959797\n",
       "TimeToContact              0.169302\n",
       "PeakHandSpeed             17.550581\n",
       "dtype: float64"
      ]
     },
     "execution_count": 141,
     "metadata": {},
     "output_type": "execute_result"
    }
   ],
   "source": [
    "datab2[['H1',\"HH\",'armVelo','exitVelo','Plane','Connection','Rotation','BatSpeed','RotationalAcceleration','OnPlaneEfficiency','Power','TimeToContact','PeakHandSpeed']].mean()"
   ]
  },
  {
   "cell_type": "code",
   "execution_count": 142,
   "id": "90db297c",
   "metadata": {},
   "outputs": [
    {
     "data": {
      "text/plain": [
       "H1                         3.199212\n",
       "HH                        12.727327\n",
       "armVelo                   55.104487\n",
       "exitVelo                  63.393429\n",
       "Plane                     54.327801\n",
       "Connection                53.703320\n",
       "Rotation                  56.139004\n",
       "BatSpeed                  57.132988\n",
       "RotationalAcceleration    10.386515\n",
       "OnPlaneEfficiency         67.684647\n",
       "Power                      1.919689\n",
       "TimeToContact              0.170062\n",
       "PeakHandSpeed             17.822199\n",
       "dtype: float64"
      ]
     },
     "execution_count": 142,
     "metadata": {},
     "output_type": "execute_result"
    }
   ],
   "source": [
    "datab3[['H1',\"HH\",'armVelo','exitVelo','Plane','Connection','Rotation','BatSpeed','RotationalAcceleration','OnPlaneEfficiency','Power','TimeToContact','PeakHandSpeed']].mean()"
   ]
  },
  {
   "cell_type": "code",
   "execution_count": 143,
   "id": "e98a08df",
   "metadata": {},
   "outputs": [
    {
     "data": {
      "text/plain": [
       "H1                         3.236757\n",
       "HH                        13.035195\n",
       "armVelo                   53.637385\n",
       "exitVelo                  61.458018\n",
       "Plane                     56.073394\n",
       "Connection                53.269113\n",
       "Rotation                  55.458716\n",
       "BatSpeed                  55.846789\n",
       "RotationalAcceleration    10.300306\n",
       "OnPlaneEfficiency         69.547401\n",
       "Power                      1.820917\n",
       "TimeToContact              0.170459\n",
       "PeakHandSpeed             17.604587\n",
       "dtype: float64"
      ]
     },
     "execution_count": 143,
     "metadata": {},
     "output_type": "execute_result"
    }
   ],
   "source": [
    "datab4[['H1',\"HH\",'armVelo','exitVelo','Plane','Connection','Rotation','BatSpeed','RotationalAcceleration','OnPlaneEfficiency','Power','TimeToContact','PeakHandSpeed']].mean()"
   ]
  },
  {
   "cell_type": "markdown",
   "id": "85d34aba",
   "metadata": {},
   "source": [
    "### Get quartiles for each category and division:"
   ]
  },
  {
   "cell_type": "code",
   "execution_count": 144,
   "id": "d3ada300",
   "metadata": {},
   "outputs": [
    {
     "data": {
      "text/html": [
       "<div>\n",
       "<style scoped>\n",
       "    .dataframe tbody tr th:only-of-type {\n",
       "        vertical-align: middle;\n",
       "    }\n",
       "\n",
       "    .dataframe tbody tr th {\n",
       "        vertical-align: top;\n",
       "    }\n",
       "\n",
       "    .dataframe thead th {\n",
       "        text-align: right;\n",
       "    }\n",
       "</style>\n",
       "<table border=\"1\" class=\"dataframe\">\n",
       "  <thead>\n",
       "    <tr style=\"text-align: right;\">\n",
       "      <th></th>\n",
       "      <th>H1</th>\n",
       "      <th>HH</th>\n",
       "      <th>armVelo</th>\n",
       "      <th>exitVelo</th>\n",
       "      <th>Plane</th>\n",
       "      <th>Connection</th>\n",
       "      <th>Rotation</th>\n",
       "      <th>BatSpeed</th>\n",
       "      <th>RotationalAcceleration</th>\n",
       "      <th>OnPlaneEfficiency</th>\n",
       "      <th>Power</th>\n",
       "      <th>TimeToContact</th>\n",
       "      <th>PeakHandSpeed</th>\n",
       "    </tr>\n",
       "  </thead>\n",
       "  <tbody>\n",
       "    <tr>\n",
       "      <th>0.25</th>\n",
       "      <td>2.9675</td>\n",
       "      <td>11.5925</td>\n",
       "      <td>55.0</td>\n",
       "      <td>64.333333</td>\n",
       "      <td>43.0</td>\n",
       "      <td>47.0</td>\n",
       "      <td>48.0</td>\n",
       "      <td>57.2</td>\n",
       "      <td>7.6</td>\n",
       "      <td>56.0</td>\n",
       "      <td>1.94</td>\n",
       "      <td>0.16</td>\n",
       "      <td>16.9</td>\n",
       "    </tr>\n",
       "    <tr>\n",
       "      <th>0.50</th>\n",
       "      <td>3.0800</td>\n",
       "      <td>12.0200</td>\n",
       "      <td>58.5</td>\n",
       "      <td>68.000000</td>\n",
       "      <td>53.0</td>\n",
       "      <td>54.0</td>\n",
       "      <td>55.0</td>\n",
       "      <td>60.2</td>\n",
       "      <td>9.8</td>\n",
       "      <td>67.0</td>\n",
       "      <td>2.21</td>\n",
       "      <td>0.17</td>\n",
       "      <td>17.9</td>\n",
       "    </tr>\n",
       "    <tr>\n",
       "      <th>0.75</th>\n",
       "      <td>3.2000</td>\n",
       "      <td>12.5350</td>\n",
       "      <td>61.5</td>\n",
       "      <td>71.000000</td>\n",
       "      <td>61.0</td>\n",
       "      <td>59.0</td>\n",
       "      <td>64.0</td>\n",
       "      <td>63.1</td>\n",
       "      <td>12.8</td>\n",
       "      <td>75.0</td>\n",
       "      <td>2.49</td>\n",
       "      <td>0.18</td>\n",
       "      <td>19.1</td>\n",
       "    </tr>\n",
       "  </tbody>\n",
       "</table>\n",
       "</div>"
      ],
      "text/plain": [
       "          H1       HH  armVelo   exitVelo  Plane  Connection  Rotation  \\\n",
       "0.25  2.9675  11.5925     55.0  64.333333   43.0        47.0      48.0   \n",
       "0.50  3.0800  12.0200     58.5  68.000000   53.0        54.0      55.0   \n",
       "0.75  3.2000  12.5350     61.5  71.000000   61.0        59.0      64.0   \n",
       "\n",
       "      BatSpeed  RotationalAcceleration  OnPlaneEfficiency  Power  \\\n",
       "0.25      57.2                     7.6               56.0   1.94   \n",
       "0.50      60.2                     9.8               67.0   2.21   \n",
       "0.75      63.1                    12.8               75.0   2.49   \n",
       "\n",
       "      TimeToContact  PeakHandSpeed  \n",
       "0.25           0.16           16.9  \n",
       "0.50           0.17           17.9  \n",
       "0.75           0.18           19.1  "
      ]
     },
     "execution_count": 144,
     "metadata": {},
     "output_type": "execute_result"
    }
   ],
   "source": [
    "datab1[['H1',\"HH\",'armVelo','exitVelo','Plane','Connection','Rotation','BatSpeed','RotationalAcceleration','OnPlaneEfficiency','Power','TimeToContact','PeakHandSpeed']].quantile([.25,.5,.75])"
   ]
  },
  {
   "cell_type": "code",
   "execution_count": 145,
   "id": "eba4d3aa",
   "metadata": {},
   "outputs": [
    {
     "data": {
      "text/html": [
       "<div>\n",
       "<style scoped>\n",
       "    .dataframe tbody tr th:only-of-type {\n",
       "        vertical-align: middle;\n",
       "    }\n",
       "\n",
       "    .dataframe tbody tr th {\n",
       "        vertical-align: top;\n",
       "    }\n",
       "\n",
       "    .dataframe thead th {\n",
       "        text-align: right;\n",
       "    }\n",
       "</style>\n",
       "<table border=\"1\" class=\"dataframe\">\n",
       "  <thead>\n",
       "    <tr style=\"text-align: right;\">\n",
       "      <th></th>\n",
       "      <th>H1</th>\n",
       "      <th>HH</th>\n",
       "      <th>armVelo</th>\n",
       "      <th>exitVelo</th>\n",
       "      <th>Plane</th>\n",
       "      <th>Connection</th>\n",
       "      <th>Rotation</th>\n",
       "      <th>BatSpeed</th>\n",
       "      <th>RotationalAcceleration</th>\n",
       "      <th>OnPlaneEfficiency</th>\n",
       "      <th>Power</th>\n",
       "      <th>TimeToContact</th>\n",
       "      <th>PeakHandSpeed</th>\n",
       "    </tr>\n",
       "  </thead>\n",
       "  <tbody>\n",
       "    <tr>\n",
       "      <th>0.25</th>\n",
       "      <td>3.00</td>\n",
       "      <td>11.855</td>\n",
       "      <td>53.666667</td>\n",
       "      <td>61.666667</td>\n",
       "      <td>45.0</td>\n",
       "      <td>47.0</td>\n",
       "      <td>47.75</td>\n",
       "      <td>54.90</td>\n",
       "      <td>7.2</td>\n",
       "      <td>57.0</td>\n",
       "      <td>1.69</td>\n",
       "      <td>0.16</td>\n",
       "      <td>16.500</td>\n",
       "    </tr>\n",
       "    <tr>\n",
       "      <th>0.50</th>\n",
       "      <td>3.13</td>\n",
       "      <td>12.320</td>\n",
       "      <td>56.666667</td>\n",
       "      <td>65.000000</td>\n",
       "      <td>53.0</td>\n",
       "      <td>53.0</td>\n",
       "      <td>53.00</td>\n",
       "      <td>57.65</td>\n",
       "      <td>9.2</td>\n",
       "      <td>67.0</td>\n",
       "      <td>1.94</td>\n",
       "      <td>0.17</td>\n",
       "      <td>17.500</td>\n",
       "    </tr>\n",
       "    <tr>\n",
       "      <th>0.75</th>\n",
       "      <td>3.26</td>\n",
       "      <td>12.890</td>\n",
       "      <td>59.500000</td>\n",
       "      <td>68.666667</td>\n",
       "      <td>61.0</td>\n",
       "      <td>59.0</td>\n",
       "      <td>62.00</td>\n",
       "      <td>60.60</td>\n",
       "      <td>12.3</td>\n",
       "      <td>75.0</td>\n",
       "      <td>2.24</td>\n",
       "      <td>0.18</td>\n",
       "      <td>18.525</td>\n",
       "    </tr>\n",
       "  </tbody>\n",
       "</table>\n",
       "</div>"
      ],
      "text/plain": [
       "        H1      HH    armVelo   exitVelo  Plane  Connection  Rotation  \\\n",
       "0.25  3.00  11.855  53.666667  61.666667   45.0        47.0     47.75   \n",
       "0.50  3.13  12.320  56.666667  65.000000   53.0        53.0     53.00   \n",
       "0.75  3.26  12.890  59.500000  68.666667   61.0        59.0     62.00   \n",
       "\n",
       "      BatSpeed  RotationalAcceleration  OnPlaneEfficiency  Power  \\\n",
       "0.25     54.90                     7.2               57.0   1.69   \n",
       "0.50     57.65                     9.2               67.0   1.94   \n",
       "0.75     60.60                    12.3               75.0   2.24   \n",
       "\n",
       "      TimeToContact  PeakHandSpeed  \n",
       "0.25           0.16         16.500  \n",
       "0.50           0.17         17.500  \n",
       "0.75           0.18         18.525  "
      ]
     },
     "execution_count": 145,
     "metadata": {},
     "output_type": "execute_result"
    }
   ],
   "source": [
    "datab2[['H1',\"HH\",'armVelo','exitVelo','Plane','Connection','Rotation','BatSpeed','RotationalAcceleration','OnPlaneEfficiency','Power','TimeToContact','PeakHandSpeed']].quantile([.25,.5,.75])"
   ]
  },
  {
   "cell_type": "code",
   "execution_count": 146,
   "id": "41d900bd",
   "metadata": {},
   "outputs": [
    {
     "data": {
      "text/html": [
       "<div>\n",
       "<style scoped>\n",
       "    .dataframe tbody tr th:only-of-type {\n",
       "        vertical-align: middle;\n",
       "    }\n",
       "\n",
       "    .dataframe tbody tr th {\n",
       "        vertical-align: top;\n",
       "    }\n",
       "\n",
       "    .dataframe thead th {\n",
       "        text-align: right;\n",
       "    }\n",
       "</style>\n",
       "<table border=\"1\" class=\"dataframe\">\n",
       "  <thead>\n",
       "    <tr style=\"text-align: right;\">\n",
       "      <th></th>\n",
       "      <th>H1</th>\n",
       "      <th>HH</th>\n",
       "      <th>armVelo</th>\n",
       "      <th>exitVelo</th>\n",
       "      <th>Plane</th>\n",
       "      <th>Connection</th>\n",
       "      <th>Rotation</th>\n",
       "      <th>BatSpeed</th>\n",
       "      <th>RotationalAcceleration</th>\n",
       "      <th>OnPlaneEfficiency</th>\n",
       "      <th>Power</th>\n",
       "      <th>TimeToContact</th>\n",
       "      <th>PeakHandSpeed</th>\n",
       "    </tr>\n",
       "  </thead>\n",
       "  <tbody>\n",
       "    <tr>\n",
       "      <th>0.25</th>\n",
       "      <td>3.05</td>\n",
       "      <td>12.1400</td>\n",
       "      <td>52.000000</td>\n",
       "      <td>60.0</td>\n",
       "      <td>46.0</td>\n",
       "      <td>48.0</td>\n",
       "      <td>47.0</td>\n",
       "      <td>54.5</td>\n",
       "      <td>7.2</td>\n",
       "      <td>60.0</td>\n",
       "      <td>1.69</td>\n",
       "      <td>0.16</td>\n",
       "      <td>16.7</td>\n",
       "    </tr>\n",
       "    <tr>\n",
       "      <th>0.50</th>\n",
       "      <td>3.18</td>\n",
       "      <td>12.6400</td>\n",
       "      <td>55.333333</td>\n",
       "      <td>63.5</td>\n",
       "      <td>55.0</td>\n",
       "      <td>54.0</td>\n",
       "      <td>55.0</td>\n",
       "      <td>57.2</td>\n",
       "      <td>9.9</td>\n",
       "      <td>68.0</td>\n",
       "      <td>1.89</td>\n",
       "      <td>0.17</td>\n",
       "      <td>17.8</td>\n",
       "    </tr>\n",
       "    <tr>\n",
       "      <th>0.75</th>\n",
       "      <td>3.33</td>\n",
       "      <td>13.2025</td>\n",
       "      <td>58.000000</td>\n",
       "      <td>67.0</td>\n",
       "      <td>62.0</td>\n",
       "      <td>60.0</td>\n",
       "      <td>64.0</td>\n",
       "      <td>59.7</td>\n",
       "      <td>12.9</td>\n",
       "      <td>76.0</td>\n",
       "      <td>2.15</td>\n",
       "      <td>0.18</td>\n",
       "      <td>18.9</td>\n",
       "    </tr>\n",
       "  </tbody>\n",
       "</table>\n",
       "</div>"
      ],
      "text/plain": [
       "        H1       HH    armVelo  exitVelo  Plane  Connection  Rotation  \\\n",
       "0.25  3.05  12.1400  52.000000      60.0   46.0        48.0      47.0   \n",
       "0.50  3.18  12.6400  55.333333      63.5   55.0        54.0      55.0   \n",
       "0.75  3.33  13.2025  58.000000      67.0   62.0        60.0      64.0   \n",
       "\n",
       "      BatSpeed  RotationalAcceleration  OnPlaneEfficiency  Power  \\\n",
       "0.25      54.5                     7.2               60.0   1.69   \n",
       "0.50      57.2                     9.9               68.0   1.89   \n",
       "0.75      59.7                    12.9               76.0   2.15   \n",
       "\n",
       "      TimeToContact  PeakHandSpeed  \n",
       "0.25           0.16           16.7  \n",
       "0.50           0.17           17.8  \n",
       "0.75           0.18           18.9  "
      ]
     },
     "execution_count": 146,
     "metadata": {},
     "output_type": "execute_result"
    }
   ],
   "source": [
    "datab3[['H1',\"HH\",'armVelo','exitVelo','Plane','Connection','Rotation','BatSpeed','RotationalAcceleration','OnPlaneEfficiency','Power','TimeToContact','PeakHandSpeed']].quantile([.25,.5,.75])"
   ]
  },
  {
   "cell_type": "code",
   "execution_count": 147,
   "id": "311bdbbb",
   "metadata": {},
   "outputs": [
    {
     "data": {
      "text/html": [
       "<div>\n",
       "<style scoped>\n",
       "    .dataframe tbody tr th:only-of-type {\n",
       "        vertical-align: middle;\n",
       "    }\n",
       "\n",
       "    .dataframe tbody tr th {\n",
       "        vertical-align: top;\n",
       "    }\n",
       "\n",
       "    .dataframe thead th {\n",
       "        text-align: right;\n",
       "    }\n",
       "</style>\n",
       "<table border=\"1\" class=\"dataframe\">\n",
       "  <thead>\n",
       "    <tr style=\"text-align: right;\">\n",
       "      <th></th>\n",
       "      <th>H1</th>\n",
       "      <th>HH</th>\n",
       "      <th>armVelo</th>\n",
       "      <th>exitVelo</th>\n",
       "      <th>Plane</th>\n",
       "      <th>Connection</th>\n",
       "      <th>Rotation</th>\n",
       "      <th>BatSpeed</th>\n",
       "      <th>RotationalAcceleration</th>\n",
       "      <th>OnPlaneEfficiency</th>\n",
       "      <th>Power</th>\n",
       "      <th>TimeToContact</th>\n",
       "      <th>PeakHandSpeed</th>\n",
       "    </tr>\n",
       "  </thead>\n",
       "  <tbody>\n",
       "    <tr>\n",
       "      <th>0.25</th>\n",
       "      <td>3.05</td>\n",
       "      <td>12.1400</td>\n",
       "      <td>52.000000</td>\n",
       "      <td>60.0</td>\n",
       "      <td>46.0</td>\n",
       "      <td>48.0</td>\n",
       "      <td>47.0</td>\n",
       "      <td>54.5</td>\n",
       "      <td>7.2</td>\n",
       "      <td>60.0</td>\n",
       "      <td>1.69</td>\n",
       "      <td>0.16</td>\n",
       "      <td>16.7</td>\n",
       "    </tr>\n",
       "    <tr>\n",
       "      <th>0.50</th>\n",
       "      <td>3.18</td>\n",
       "      <td>12.6400</td>\n",
       "      <td>55.333333</td>\n",
       "      <td>63.5</td>\n",
       "      <td>55.0</td>\n",
       "      <td>54.0</td>\n",
       "      <td>55.0</td>\n",
       "      <td>57.2</td>\n",
       "      <td>9.9</td>\n",
       "      <td>68.0</td>\n",
       "      <td>1.89</td>\n",
       "      <td>0.17</td>\n",
       "      <td>17.8</td>\n",
       "    </tr>\n",
       "    <tr>\n",
       "      <th>0.75</th>\n",
       "      <td>3.33</td>\n",
       "      <td>13.2025</td>\n",
       "      <td>58.000000</td>\n",
       "      <td>67.0</td>\n",
       "      <td>62.0</td>\n",
       "      <td>60.0</td>\n",
       "      <td>64.0</td>\n",
       "      <td>59.7</td>\n",
       "      <td>12.9</td>\n",
       "      <td>76.0</td>\n",
       "      <td>2.15</td>\n",
       "      <td>0.18</td>\n",
       "      <td>18.9</td>\n",
       "    </tr>\n",
       "  </tbody>\n",
       "</table>\n",
       "</div>"
      ],
      "text/plain": [
       "        H1       HH    armVelo  exitVelo  Plane  Connection  Rotation  \\\n",
       "0.25  3.05  12.1400  52.000000      60.0   46.0        48.0      47.0   \n",
       "0.50  3.18  12.6400  55.333333      63.5   55.0        54.0      55.0   \n",
       "0.75  3.33  13.2025  58.000000      67.0   62.0        60.0      64.0   \n",
       "\n",
       "      BatSpeed  RotationalAcceleration  OnPlaneEfficiency  Power  \\\n",
       "0.25      54.5                     7.2               60.0   1.69   \n",
       "0.50      57.2                     9.9               68.0   1.89   \n",
       "0.75      59.7                    12.9               76.0   2.15   \n",
       "\n",
       "      TimeToContact  PeakHandSpeed  \n",
       "0.25           0.16           16.7  \n",
       "0.50           0.17           17.8  \n",
       "0.75           0.18           18.9  "
      ]
     },
     "execution_count": 147,
     "metadata": {},
     "output_type": "execute_result"
    }
   ],
   "source": [
    "datab3[['H1',\"HH\",'armVelo','exitVelo','Plane','Connection','Rotation','BatSpeed','RotationalAcceleration','OnPlaneEfficiency','Power','TimeToContact','PeakHandSpeed']].quantile([.25,.5,.75])"
   ]
  },
  {
   "cell_type": "markdown",
   "id": "492e51bd",
   "metadata": {},
   "source": [
    "# 6. Data Visualizations <a class=\"anchor\" id=\"Visual\"></a>"
   ]
  },
  {
   "cell_type": "code",
   "execution_count": 22,
   "id": "54cb1359",
   "metadata": {},
   "outputs": [],
   "source": [
    "import matplotlib.pyplot as plt\n",
    "b1 = pd.read_csv('b1mean.csv')\n",
    "b2 = pd.read_csv('b2mean.csv')\n",
    "b3 = pd.read_csv('b3mean.csv')\n",
    "b4 = pd.read_csv('b4mean.csv')"
   ]
  },
  {
   "cell_type": "code",
   "execution_count": 11,
   "id": "0d04ed38",
   "metadata": {},
   "outputs": [
    {
     "data": {
      "text/plain": [
       "Index(['Unnamed: 0', 'CollegePlayerType', 'Plane', 'Connection', 'Rotation',\n",
       "       'BatSpeed', 'RotationalAcceleration', 'OnPlaneEfficiency', 'Power',\n",
       "       'TimeToContact', 'PeakHandSpeed', 'H1', 'HH', 'armVelo', 'exitVelo'],\n",
       "      dtype='object')"
      ]
     },
     "execution_count": 11,
     "metadata": {},
     "output_type": "execute_result"
    }
   ],
   "source": [
    "b1.columns"
   ]
  },
  {
   "cell_type": "code",
   "execution_count": 8,
   "id": "9766829f",
   "metadata": {},
   "outputs": [
    {
     "data": {
      "text/plain": [
       "12.130423011844332"
      ]
     },
     "execution_count": 8,
     "metadata": {},
     "output_type": "execute_result"
    }
   ],
   "source": [
    "b1[\"HH\"].mean()"
   ]
  },
  {
   "cell_type": "code",
   "execution_count": 15,
   "id": "dcb8cf8e",
   "metadata": {},
   "outputs": [],
   "source": [
    "stats=[\"HH\",\"BatSpeed\",\"armVelo\"]"
   ]
  },
  {
   "cell_type": "code",
   "execution_count": 11,
   "id": "94ec4973",
   "metadata": {},
   "outputs": [],
   "source": [
    "HHMeans=[]\n",
    "batMeans=[]\n",
    "avMeans=[]\n",
    "evMeans=[]\n",
    "for b in [b1,b2,b3,b4]:\n",
    "    HHMeans.append(b[\"HH\"].mean())\n",
    "    batMeans.append(b[\"BatSpeed\"].mean())\n",
    "    avMeans.append(b[\"armVelo\"].mean())\n",
    "    evMeans.append(b[\"exitVelo\"].mean())"
   ]
  },
  {
   "cell_type": "code",
   "execution_count": 44,
   "id": "5458fe89",
   "metadata": {},
   "outputs": [
    {
     "data": {
      "text/plain": [
       "[60.04231884057972, 57.60319767441862, 57.132987551867224, 55.84678899082568]"
      ]
     },
     "execution_count": 44,
     "metadata": {},
     "output_type": "execute_result"
    }
   ],
   "source": [
    "batMeans"
   ]
  },
  {
   "cell_type": "code",
   "execution_count": 148,
   "id": "31d11812",
   "metadata": {},
   "outputs": [],
   "source": [
    "dataDivisions=[datab1,datab2,datab3,datab4]"
   ]
  },
  {
   "cell_type": "code",
   "execution_count": 23,
   "id": "479bc261",
   "metadata": {},
   "outputs": [
    {
     "data": {
      "text/plain": [
       "0      56.666667\n",
       "1      52.500000\n",
       "2      51.666667\n",
       "3      49.333333\n",
       "4      51.000000\n",
       "         ...    \n",
       "586    65.000000\n",
       "587    60.500000\n",
       "588    55.500000\n",
       "589    65.000000\n",
       "590    60.000000\n",
       "Name: armVelo, Length: 591, dtype: float64"
      ]
     },
     "execution_count": 23,
     "metadata": {},
     "output_type": "execute_result"
    }
   ],
   "source": [
    "b1['armVelo']"
   ]
  },
  {
   "cell_type": "code",
   "execution_count": 24,
   "id": "2965b82d",
   "metadata": {},
   "outputs": [
    {
     "data": {
      "text/plain": [
       "0            Starter\n",
       "1            Starter\n",
       "2            Starter\n",
       "3            Starter\n",
       "4        Role Player\n",
       "           ...      \n",
       "586          Starter\n",
       "587      Role Player\n",
       "588          Starter\n",
       "589      Role Player\n",
       "590    Impact Player\n",
       "Name: CollegePlayerType, Length: 591, dtype: object"
      ]
     },
     "execution_count": 24,
     "metadata": {},
     "output_type": "execute_result"
    }
   ],
   "source": [
    "b1['CollegePlayerType']"
   ]
  },
  {
   "cell_type": "code",
   "execution_count": 66,
   "id": "316e149c",
   "metadata": {},
   "outputs": [],
   "source": [
    "playerTypeb1Means=[]\n",
    "#df[df['B']==3]['A']\n",
    "for t in ['Impact Player','Starter','Role Player']:\n",
    "    mean = b1[b1['CollegePlayerType']==t]['Power'].mean()\n",
    "    playerTypeb1Means.append(mean)"
   ]
  },
  {
   "cell_type": "code",
   "execution_count": 36,
   "id": "2197b599",
   "metadata": {},
   "outputs": [
    {
     "data": {
      "text/plain": [
       "[59.18648648648649, 58.478017241379305, 56.86243279569892]"
      ]
     },
     "execution_count": 36,
     "metadata": {},
     "output_type": "execute_result"
    }
   ],
   "source": [
    "playerTypeb1Means"
   ]
  },
  {
   "cell_type": "code",
   "execution_count": 74,
   "id": "a8919e0c",
   "metadata": {},
   "outputs": [
    {
     "data": {
      "image/png": "[encoded data removed]",
      "text/plain": [
       "<Figure size 600x500 with 1 Axes>"
      ]
     },
     "metadata": {},
     "output_type": "display_data"
    }
   ],
   "source": [
    "plt.figure(figsize=(6,5))\n",
    "plt.bar(['Impact Player','Starter','Role Player'],playerTypeb1Means)\n",
    "plt.rcParams.update({'font.size': 12})\n",
    "plt.xlabel(\"Player Type\", fontsize=18)\n",
    "plt.ylabel(\"Watts\", fontsize=17)\n",
    "plt.title(\"Mean Power by Player Type in Bucket 1\", fontsize=18)\n",
    "plt.savefig(\"Powerb1\")"
   ]
  },
  {
   "cell_type": "code",
   "execution_count": 12,
   "id": "87f0fcc8",
   "metadata": {},
   "outputs": [
    {
     "data": {
      "image/png": "[encoded data removed]",
      "text/plain": [
       "<Figure size 640x480 with 1 Axes>"
      ]
     },
     "metadata": {},
     "output_type": "display_data"
    }
   ],
   "source": [
    "plt.bar(['b1','b2','b3','b4'],evMeans)\n",
    "plt.rcParams.update({'font.size': 12})\n",
    "plt.xlabel(\"Bucket\", fontsize=18)\n",
    "plt.ylabel(\"Miles Per Hour\", fontsize=18)\n",
    "plt.title(\"Mean Exit Velocity by Bucket\", fontsize=18)\n",
    "plt.savefig(\"exitveloMeansBucket\")"
   ]
  },
  {
   "cell_type": "code",
   "execution_count": 9,
   "id": "da709960",
   "metadata": {},
   "outputs": [
    {
     "data": {
      "image/png": "[encoded data removed]",
      "text/plain": [
       "<Figure size 640x480 with 1 Axes>"
      ]
     },
     "metadata": {},
     "output_type": "display_data"
    }
   ],
   "source": [
    "plt.bar(['b1','b2','b3','b4'],avMeans)\n",
    "plt.rcParams.update({'font.size': 12})\n",
    "plt.xlabel(\"Bucket\", fontsize=18)\n",
    "plt.ylabel(\"Miles Per Hour\", fontsize=18)\n",
    "plt.title(\"Mean Arm Velocity by Bucket\", fontsize=18)\n",
    "plt.savefig(\"armveloMeansBucket\")"
   ]
  },
  {
   "cell_type": "code",
   "execution_count": 43,
   "id": "b5bd70f2",
   "metadata": {},
   "outputs": [
    {
     "data": {
      "image/png": "[encoded data removed]",
      "text/plain": [
       "<Figure size 640x480 with 1 Axes>"
      ]
     },
     "metadata": {},
     "output_type": "display_data"
    }
   ],
   "source": [
    "plt.bar(['b1','b2','b3','b4'],HHMeans)\n",
    "plt.rcParams.update({'font.size': 12})\n",
    "plt.xlabel(\"Bucket\", fontsize=18)\n",
    "plt.ylabel(\"Seconds\", fontsize=18)\n",
    "plt.title(\"Mean Home to Home Times by Bucket\", fontsize=18)\n",
    "plt.savefig(\"HHMeansBucket\")"
   ]
  },
  {
   "cell_type": "code",
   "execution_count": 46,
   "id": "118815cf",
   "metadata": {},
   "outputs": [
    {
     "data": {
      "image/png": "[encoded data removed]",
      "text/plain": [
       "<Figure size 640x480 with 1 Axes>"
      ]
     },
     "metadata": {},
     "output_type": "display_data"
    }
   ],
   "source": [
    "plt.bar(['b1','b2','b3','b4'],batMeans)\n",
    "plt.rcParams.update({'font.size': 12})\n",
    "plt.xlabel(\"Bucket\", fontsize=18)\n",
    "plt.ylabel(\"Miles Per Hour\", fontsize=18)\n",
    "plt.title(\"Mean Bat Speed Times by Bucket\", fontsize=18)\n",
    "plt.savefig(\"batMeansBucket\")"
   ]
  },
  {
   "cell_type": "code",
   "execution_count": 48,
   "id": "31ed14e0",
   "metadata": {},
   "outputs": [
    {
     "data": {
      "text/plain": [
       "13.39"
      ]
     },
     "execution_count": 48,
     "metadata": {},
     "output_type": "execute_result"
    }
   ],
   "source": [
    "b3[\"HH\"][0]"
   ]
  },
  {
   "cell_type": "code",
   "execution_count": 51,
   "id": "346ff1be",
   "metadata": {},
   "outputs": [],
   "source": [
    "playerMeanDict={\"Impact Player\":[],\"Role Player\":[], \"Starter\":[]}\n",
    "for i in range(len(b3)):\n",
    "    playerMeanDict[b3['CollegePlayerType'][i]].append(b3['HH'][i])"
   ]
  },
  {
   "cell_type": "code",
   "execution_count": 55,
   "id": "6e781d4e",
   "metadata": {},
   "outputs": [
    {
     "data": {
      "text/plain": [
       "12.544371980676328"
      ]
     },
     "execution_count": 55,
     "metadata": {},
     "output_type": "execute_result"
    }
   ],
   "source": [
    "#playerMeanDict\n",
    "impMean=sum(playerMeanDict['Impact Player'])/len(playerMeanDict['Impact Player'])\n",
    "impMean"
   ]
  },
  {
   "cell_type": "code",
   "execution_count": 56,
   "id": "304d1f90",
   "metadata": {},
   "outputs": [
    {
     "data": {
      "text/plain": [
       "12.867209302325572"
      ]
     },
     "execution_count": 56,
     "metadata": {},
     "output_type": "execute_result"
    }
   ],
   "source": [
    "roleMean=sum(playerMeanDict['Role Player'])/len(playerMeanDict['Role Player'])\n",
    "roleMean"
   ]
  },
  {
   "cell_type": "code",
   "execution_count": 57,
   "id": "f119af91",
   "metadata": {},
   "outputs": [
    {
     "data": {
      "text/plain": [
       "12.690863228699543"
      ]
     },
     "execution_count": 57,
     "metadata": {},
     "output_type": "execute_result"
    }
   ],
   "source": [
    "startMean=sum(playerMeanDict['Starter'])/len(playerMeanDict['Starter'])\n",
    "startMean"
   ]
  },
  {
   "cell_type": "code",
   "execution_count": 58,
   "id": "2b9ec698",
   "metadata": {},
   "outputs": [],
   "source": [
    "playerType=[\"Impact\",\"Starter\",\"Role\"]\n",
    "roleMeans=[impMean,startMean,roleMean]"
   ]
  },
  {
   "cell_type": "code",
   "execution_count": 60,
   "id": "0ac60210",
   "metadata": {},
   "outputs": [
    {
     "data": {
      "image/png": "[encoded data removed]",
      "text/plain": [
       "<Figure size 640x480 with 1 Axes>"
      ]
     },
     "metadata": {},
     "output_type": "display_data"
    }
   ],
   "source": [
    "plt.bar(playerType,roleMeans)\n",
    "plt.rcParams.update({'font.size': 12})\n",
    "plt.xlabel(\"Player Type\", fontsize=18)\n",
    "plt.ylabel(\"Seconds\", fontsize=18)\n",
    "plt.title(\"Mean Home to Home Times by Player Type\", fontsize=18)\n",
    "plt.savefig(\"HHMeanspType\")"
   ]
  },
  {
   "cell_type": "code",
   "execution_count": null,
   "id": "3a1a90e5",
   "metadata": {},
   "outputs": [],
   "source": []
  },
  {
   "cell_type": "code",
   "execution_count": 149,
   "id": "d5e0537e",
   "metadata": {},
   "outputs": [],
   "source": [
    "categories=['HH','H1','armVelo','exitVelo']"
   ]
  },
  {
   "cell_type": "code",
   "execution_count": 150,
   "id": "7768c136",
   "metadata": {},
   "outputs": [
    {
     "data": {
      "image/png": "[encoded data removed]",
      "text/plain": [
       "<Figure size 640x480 with 1 Axes>"
      ]
     },
     "metadata": {},
     "output_type": "display_data"
    },
    {
     "data": {
      "image/png": "[encoded data removed]",
      "text/plain": [
       "<Figure size 640x480 with 1 Axes>"
      ]
     },
     "metadata": {},
     "output_type": "display_data"
    },
    {
     "data": {
      "image/png": "[encoded data removed]",
      "text/plain": [
       "<Figure size 640x480 with 1 Axes>"
      ]
     },
     "metadata": {},
     "output_type": "display_data"
    },
    {
     "data": {
      "image/png": "[encoded data removed]",
      "text/plain": [
       "<Figure size 640x480 with 1 Axes>"
      ]
     },
     "metadata": {},
     "output_type": "display_data"
    }
   ],
   "source": [
    "for cat in categories:\n",
    "    dataDiv1.hist(column=cat)"
   ]
  },
  {
   "cell_type": "markdown",
   "id": "e5f280cb",
   "metadata": {},
   "source": [
    "### Make histograms next to each other for each category:"
   ]
  },
  {
   "cell_type": "code",
   "execution_count": 48,
   "id": "9e32b5f2",
   "metadata": {},
   "outputs": [],
   "source": [
    "import matplotlib.pyplot as plt"
   ]
  },
  {
   "cell_type": "code",
   "execution_count": 295,
   "id": "4530ded2",
   "metadata": {},
   "outputs": [
    {
     "data": {
      "image/png": "[encoded data removed]",
      "text/plain": [
       "<Figure size 700x500 with 4 Axes>"
      ]
     },
     "metadata": {},
     "output_type": "display_data"
    }
   ],
   "source": [
    "plt.rcParams[\"figure.figsize\"] = [7, 5]\n",
    "plt.rcParams[\"figure.autolayout\"] = True\n",
    "fig, axes = plt.subplots(2,2)\n",
    "\n",
    "plt.hist(dataDiv1['H1'])\n",
    "plt.title('Division 1 H1 Times')\n",
    "plt.xlabel('Time (Seconds)')\n",
    "plt.ylabel('Frequency')\n",
    "\n",
    "plt.hist(dataDiv2NAIA['H1'])\n",
    "plt.title('Division 2 & NAIA H1 Times')\n",
    "plt.xlabel('Time (Seconds)')\n",
    "plt.ylabel('Frequency')\n",
    "\n",
    "plt.hist(dataDiv3['H1'])\n",
    "plt.title('Division 3 H1 Times')\n",
    "plt.xlabel('Time (Seconds)')\n",
    "plt.ylabel('Frequency')\n",
    "\n",
    "plt.hist(dataJUCO['H1'])\n",
    "plt.title('JUCO H1 Times')\n",
    "plt.xlabel('Time (Seconds)')\n",
    "plt.ylabel('Frequency')\n",
    "\n",
    "plt.show()"
   ]
  },
  {
   "cell_type": "code",
   "execution_count": 288,
   "id": "86f70bfc",
   "metadata": {},
   "outputs": [
    {
     "data": {
      "text/plain": [
       "Text(0, 0.5, 'Frequency')"
      ]
     },
     "execution_count": 288,
     "metadata": {},
     "output_type": "execute_result"
    },
    {
     "data": {
      "image/png": "[encoded data removed]",
      "text/plain": [
       "<Figure size 700x500 with 1 Axes>"
      ]
     },
     "metadata": {},
     "output_type": "display_data"
    }
   ],
   "source": [
    "plt.hist(dataDiv2NAIA['H1'])\n",
    "plt.title('Division 2 & NAIA H1 Times')\n",
    "plt.xlabel('Time (Seconds)')\n",
    "plt.ylabel('Frequency')"
   ]
  },
  {
   "cell_type": "code",
   "execution_count": 289,
   "id": "6f2cc963",
   "metadata": {},
   "outputs": [
    {
     "data": {
      "text/plain": [
       "Text(0, 0.5, 'Frequency')"
      ]
     },
     "execution_count": 289,
     "metadata": {},
     "output_type": "execute_result"
    },
    {
     "data": {
      "image/png": "[encoded data removed]",
      "text/plain": [
       "<Figure size 700x500 with 1 Axes>"
      ]
     },
     "metadata": {},
     "output_type": "display_data"
    }
   ],
   "source": [
    "plt.hist(dataDiv3['H1'])\n",
    "plt.title('Division 3 H1 Times')\n",
    "plt.xlabel('Time (Seconds)')\n",
    "plt.ylabel('Frequency')"
   ]
  },
  {
   "cell_type": "code",
   "execution_count": 290,
   "id": "b2ad2a92",
   "metadata": {},
   "outputs": [
    {
     "data": {
      "text/plain": [
       "Text(0, 0.5, 'Frequency')"
      ]
     },
     "execution_count": 290,
     "metadata": {},
     "output_type": "execute_result"
    },
    {
     "data": {
      "image/png": "[encoded data removed]",
      "text/plain": [
       "<Figure size 700x500 with 1 Axes>"
      ]
     },
     "metadata": {},
     "output_type": "display_data"
    }
   ],
   "source": [
    "plt.hist(dataJUCO['H1'])\n",
    "plt.title('JUCO H1 Times')\n",
    "plt.xlabel('Time (Seconds)')\n",
    "plt.ylabel('Frequency')"
   ]
  }
 ],
 "metadata": {
  "kernelspec": {
   "display_name": "Python 3 (ipykernel)",
   "language": "python",
   "name": "python3"
  },
  "language_info": {
   "codemirror_mode": {
    "name": "ipython",
    "version": 3
   },
   "file_extension": ".py",
   "mimetype": "text/x-python",
   "name": "python",
   "nbconvert_exporter": "python",
   "pygments_lexer": "ipython3",
   "version": "3.9.5"
  }
 },
 "nbformat": 4,
 "nbformat_minor": 5
}
